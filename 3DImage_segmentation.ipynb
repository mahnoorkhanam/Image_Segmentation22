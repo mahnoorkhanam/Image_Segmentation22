{
  "nbformat": 4,
  "nbformat_minor": 0,
  "metadata": {
    "colab": {
      "provenance": [],
      "gpuType": "T4"
    },
    "kernelspec": {
      "name": "python3",
      "display_name": "Python 3"
    },
    "language_info": {
      "name": "python"
    },
    "accelerator": "GPU"
  },
  "cells": [
    {
      "cell_type": "code",
      "source": [
        "!nvidia-smi"
      ],
      "metadata": {
        "colab": {
          "base_uri": "https://localhost:8080/"
        },
        "id": "5K9z8jntT-X1",
        "outputId": "fc857838-a7c4-4bfb-e153-776835609e47"
      },
      "execution_count": null,
      "outputs": [
        {
          "output_type": "stream",
          "name": "stdout",
          "text": [
            "Mon Nov  6 11:11:33 2023       \n",
            "+-----------------------------------------------------------------------------+\n",
            "| NVIDIA-SMI 525.105.17   Driver Version: 525.105.17   CUDA Version: 12.0     |\n",
            "|-------------------------------+----------------------+----------------------+\n",
            "| GPU  Name        Persistence-M| Bus-Id        Disp.A | Volatile Uncorr. ECC |\n",
            "| Fan  Temp  Perf  Pwr:Usage/Cap|         Memory-Usage | GPU-Util  Compute M. |\n",
            "|                               |                      |               MIG M. |\n",
            "|===============================+======================+======================|\n",
            "|   0  Tesla T4            Off  | 00000000:00:04.0 Off |                    0 |\n",
            "| N/A   34C    P8     9W /  70W |      0MiB / 15360MiB |      0%      Default |\n",
            "|                               |                      |                  N/A |\n",
            "+-------------------------------+----------------------+----------------------+\n",
            "                                                                               \n",
            "+-----------------------------------------------------------------------------+\n",
            "| Processes:                                                                  |\n",
            "|  GPU   GI   CI        PID   Type   Process name                  GPU Memory |\n",
            "|        ID   ID                                                   Usage      |\n",
            "|=============================================================================|\n",
            "|  No running processes found                                                 |\n",
            "+-----------------------------------------------------------------------------+\n"
          ]
        }
      ]
    },
    {
      "cell_type": "code",
      "execution_count": null,
      "metadata": {
        "colab": {
          "base_uri": "https://localhost:8080/"
        },
        "id": "y0XjT8-pMWv4",
        "outputId": "1088e048-092f-4e4e-f64b-971e7f46df5c"
      },
      "outputs": [
        {
          "output_type": "stream",
          "name": "stdout",
          "text": [
            "Collecting patchify\n",
            "  Downloading patchify-0.2.3-py3-none-any.whl (6.6 kB)\n",
            "Requirement already satisfied: numpy<2,>=1 in /usr/local/lib/python3.10/dist-packages (from patchify) (1.23.5)\n",
            "Installing collected packages: patchify\n",
            "Successfully installed patchify-0.2.3\n"
          ]
        }
      ],
      "source": [
        "!pip install patchify"
      ]
    },
    {
      "cell_type": "code",
      "source": [
        "!pip install tensorflow"
      ],
      "metadata": {
        "colab": {
          "base_uri": "https://localhost:8080/"
        },
        "id": "ZBCAkXE8Ma2z",
        "outputId": "8e8b1ee9-0d79-4281-f07b-9bc8a60852b7"
      },
      "execution_count": null,
      "outputs": [
        {
          "output_type": "stream",
          "name": "stdout",
          "text": [
            "Requirement already satisfied: tensorflow in /usr/local/lib/python3.10/dist-packages (2.14.0)\n",
            "Requirement already satisfied: absl-py>=1.0.0 in /usr/local/lib/python3.10/dist-packages (from tensorflow) (1.4.0)\n",
            "Requirement already satisfied: astunparse>=1.6.0 in /usr/local/lib/python3.10/dist-packages (from tensorflow) (1.6.3)\n",
            "Requirement already satisfied: flatbuffers>=23.5.26 in /usr/local/lib/python3.10/dist-packages (from tensorflow) (23.5.26)\n",
            "Requirement already satisfied: gast!=0.5.0,!=0.5.1,!=0.5.2,>=0.2.1 in /usr/local/lib/python3.10/dist-packages (from tensorflow) (0.5.4)\n",
            "Requirement already satisfied: google-pasta>=0.1.1 in /usr/local/lib/python3.10/dist-packages (from tensorflow) (0.2.0)\n",
            "Requirement already satisfied: h5py>=2.9.0 in /usr/local/lib/python3.10/dist-packages (from tensorflow) (3.9.0)\n",
            "Requirement already satisfied: libclang>=13.0.0 in /usr/local/lib/python3.10/dist-packages (from tensorflow) (16.0.6)\n",
            "Requirement already satisfied: ml-dtypes==0.2.0 in /usr/local/lib/python3.10/dist-packages (from tensorflow) (0.2.0)\n",
            "Requirement already satisfied: numpy>=1.23.5 in /usr/local/lib/python3.10/dist-packages (from tensorflow) (1.23.5)\n",
            "Requirement already satisfied: opt-einsum>=2.3.2 in /usr/local/lib/python3.10/dist-packages (from tensorflow) (3.3.0)\n",
            "Requirement already satisfied: packaging in /usr/local/lib/python3.10/dist-packages (from tensorflow) (23.2)\n",
            "Requirement already satisfied: protobuf!=4.21.0,!=4.21.1,!=4.21.2,!=4.21.3,!=4.21.4,!=4.21.5,<5.0.0dev,>=3.20.3 in /usr/local/lib/python3.10/dist-packages (from tensorflow) (3.20.3)\n",
            "Requirement already satisfied: setuptools in /usr/local/lib/python3.10/dist-packages (from tensorflow) (67.7.2)\n",
            "Requirement already satisfied: six>=1.12.0 in /usr/local/lib/python3.10/dist-packages (from tensorflow) (1.16.0)\n",
            "Requirement already satisfied: termcolor>=1.1.0 in /usr/local/lib/python3.10/dist-packages (from tensorflow) (2.3.0)\n",
            "Requirement already satisfied: typing-extensions>=3.6.6 in /usr/local/lib/python3.10/dist-packages (from tensorflow) (4.5.0)\n",
            "Requirement already satisfied: wrapt<1.15,>=1.11.0 in /usr/local/lib/python3.10/dist-packages (from tensorflow) (1.14.1)\n",
            "Requirement already satisfied: tensorflow-io-gcs-filesystem>=0.23.1 in /usr/local/lib/python3.10/dist-packages (from tensorflow) (0.34.0)\n",
            "Requirement already satisfied: grpcio<2.0,>=1.24.3 in /usr/local/lib/python3.10/dist-packages (from tensorflow) (1.59.0)\n",
            "Requirement already satisfied: tensorboard<2.15,>=2.14 in /usr/local/lib/python3.10/dist-packages (from tensorflow) (2.14.1)\n",
            "Requirement already satisfied: tensorflow-estimator<2.15,>=2.14.0 in /usr/local/lib/python3.10/dist-packages (from tensorflow) (2.14.0)\n",
            "Requirement already satisfied: keras<2.15,>=2.14.0 in /usr/local/lib/python3.10/dist-packages (from tensorflow) (2.14.0)\n",
            "Requirement already satisfied: wheel<1.0,>=0.23.0 in /usr/local/lib/python3.10/dist-packages (from astunparse>=1.6.0->tensorflow) (0.41.2)\n",
            "Requirement already satisfied: google-auth<3,>=1.6.3 in /usr/local/lib/python3.10/dist-packages (from tensorboard<2.15,>=2.14->tensorflow) (2.17.3)\n",
            "Requirement already satisfied: google-auth-oauthlib<1.1,>=0.5 in /usr/local/lib/python3.10/dist-packages (from tensorboard<2.15,>=2.14->tensorflow) (1.0.0)\n",
            "Requirement already satisfied: markdown>=2.6.8 in /usr/local/lib/python3.10/dist-packages (from tensorboard<2.15,>=2.14->tensorflow) (3.5)\n",
            "Requirement already satisfied: requests<3,>=2.21.0 in /usr/local/lib/python3.10/dist-packages (from tensorboard<2.15,>=2.14->tensorflow) (2.31.0)\n",
            "Requirement already satisfied: tensorboard-data-server<0.8.0,>=0.7.0 in /usr/local/lib/python3.10/dist-packages (from tensorboard<2.15,>=2.14->tensorflow) (0.7.2)\n",
            "Requirement already satisfied: werkzeug>=1.0.1 in /usr/local/lib/python3.10/dist-packages (from tensorboard<2.15,>=2.14->tensorflow) (3.0.1)\n",
            "Requirement already satisfied: cachetools<6.0,>=2.0.0 in /usr/local/lib/python3.10/dist-packages (from google-auth<3,>=1.6.3->tensorboard<2.15,>=2.14->tensorflow) (5.3.2)\n",
            "Requirement already satisfied: pyasn1-modules>=0.2.1 in /usr/local/lib/python3.10/dist-packages (from google-auth<3,>=1.6.3->tensorboard<2.15,>=2.14->tensorflow) (0.3.0)\n",
            "Requirement already satisfied: rsa<5,>=3.1.4 in /usr/local/lib/python3.10/dist-packages (from google-auth<3,>=1.6.3->tensorboard<2.15,>=2.14->tensorflow) (4.9)\n",
            "Requirement already satisfied: requests-oauthlib>=0.7.0 in /usr/local/lib/python3.10/dist-packages (from google-auth-oauthlib<1.1,>=0.5->tensorboard<2.15,>=2.14->tensorflow) (1.3.1)\n",
            "Requirement already satisfied: charset-normalizer<4,>=2 in /usr/local/lib/python3.10/dist-packages (from requests<3,>=2.21.0->tensorboard<2.15,>=2.14->tensorflow) (3.3.1)\n",
            "Requirement already satisfied: idna<4,>=2.5 in /usr/local/lib/python3.10/dist-packages (from requests<3,>=2.21.0->tensorboard<2.15,>=2.14->tensorflow) (3.4)\n",
            "Requirement already satisfied: urllib3<3,>=1.21.1 in /usr/local/lib/python3.10/dist-packages (from requests<3,>=2.21.0->tensorboard<2.15,>=2.14->tensorflow) (2.0.7)\n",
            "Requirement already satisfied: certifi>=2017.4.17 in /usr/local/lib/python3.10/dist-packages (from requests<3,>=2.21.0->tensorboard<2.15,>=2.14->tensorflow) (2023.7.22)\n",
            "Requirement already satisfied: MarkupSafe>=2.1.1 in /usr/local/lib/python3.10/dist-packages (from werkzeug>=1.0.1->tensorboard<2.15,>=2.14->tensorflow) (2.1.3)\n",
            "Requirement already satisfied: pyasn1<0.6.0,>=0.4.6 in /usr/local/lib/python3.10/dist-packages (from pyasn1-modules>=0.2.1->google-auth<3,>=1.6.3->tensorboard<2.15,>=2.14->tensorflow) (0.5.0)\n",
            "Requirement already satisfied: oauthlib>=3.0.0 in /usr/local/lib/python3.10/dist-packages (from requests-oauthlib>=0.7.0->google-auth-oauthlib<1.1,>=0.5->tensorboard<2.15,>=2.14->tensorflow) (3.2.2)\n"
          ]
        }
      ]
    },
    {
      "cell_type": "code",
      "execution_count": null,
      "metadata": {
        "id": "ktQ2bSMz4c41"
      },
      "outputs": [],
      "source": [
        "import keras\n",
        "import random\n",
        "%matplotlib_inline\n",
        "import numpy as np\n",
        "from skimage import io\n",
        "import tensorflow as tf\n",
        "from keras import backend as K\n",
        "from keras.models import Model\n",
        "import matplotlib.pyplot as plt\n",
        "from keras.optimizers import Adam\n",
        "from keras.models import load_model\n",
        "from matplotlib import pyplot as plt\n",
        "from patchify import patchify, unpatchify\n",
        "from tensorflow.keras.metrics import MeanIoU\n",
        "from tensorflow.keras.utils import to_categorical\n",
        "from sklearn.model_selection import train_test_split\n",
        "from keras.src.utils.layer_utils import print_summary\n",
        "from keras.layers import Activation, MaxPool2D, Concatenate\n",
        "from keras.layers import Input, Conv3D, MaxPooling3D, UpSampling3D, concatenate, Conv3DTranspose, BatchNormalization, Dropout, Lambda"
      ]
    },
    {
      "cell_type": "markdown",
      "source": [
        "# 3D Convolutional Block Definition\n",
        "In this code cell, a 3D convolutional block is defined for use in a neural network model. This block consists of two 3D convolutional layers with batch normalization and ReLU activation functions, and it is applied to a given input layer."
      ],
      "metadata": {
        "id": "Ui_fP5guDgCM"
      }
    },
    {
      "cell_type": "code",
      "source": [
        "def conv_block(input_layer, num_filters):\n",
        "    x = Conv3D(num_filters, (3, 3, 3), padding=\"same\")(input_layer)\n",
        "    x = BatchNormalization()(x)\n",
        "    x = Activation(\"relu\")(x)\n",
        "\n",
        "    x = Conv3D(num_filters, (3, 3, 3), padding=\"same\")(x)\n",
        "    x = BatchNormalization()(x)\n",
        "    x = Activation(\"relu\")(x)\n",
        "\n",
        "    return x\n",
        "\n",
        "\n",
        "input_layer = Input(shape=(64, 64, 64, 3))\n",
        "output = conv_block(input_layer, num_filters=64)\n",
        "model = Model(inputs=input_layer, outputs=output)"
      ],
      "metadata": {
        "id": "_wCPoUTOMbFv"
      },
      "execution_count": null,
      "outputs": []
    },
    {
      "cell_type": "markdown",
      "source": [
        "# Encoder Block Definition\n",
        "This code cell defines an encoder block for a 3D convolutional neural network.The encoder block is applied to a given input layer, and it produces two outputs: encoder_output_x from the convolutional block and encoder_output_p from the max-pooling operation."
      ],
      "metadata": {
        "id": "O8SYpPYsM1Qw"
      }
    },
    {
      "cell_type": "code",
      "source": [
        "def encoder_block(input_layer, num_filters):\n",
        "    x = conv_block(input_layer, num_filters)\n",
        "    p = MaxPooling3D((2, 2, 2))(x)\n",
        "    return x, p\n",
        "\n",
        "\n",
        "input_layer = Input(shape=(64, 64, 64, 3))\n",
        "encoder_output_x, encoder_output_p = encoder_block(input_layer, num_filters=64)"
      ],
      "metadata": {
        "id": "tlMQH9sLMbJX"
      },
      "execution_count": null,
      "outputs": []
    },
    {
      "cell_type": "markdown",
      "source": [
        "# Decoder Block Definition\n",
        "Code defines a decoder block for a 3D convolutional neural network.In this the decoder block is applied to a given input layer and skip features. This operation plays a critical role in the reverse process of upsampling and reconstructing data to its original dimension after encoding and downsampling in the encoder blocks."
      ],
      "metadata": {
        "id": "F0ninN_yM-u-"
      }
    },
    {
      "cell_type": "code",
      "source": [
        "def decoder_block(input_layer, skip_features, num_filters):\n",
        "    x = Conv3DTranspose(num_filters, (2, 2, 2), strides=(2, 2, 2), padding=\"same\")(input_layer)\n",
        "    x = Concatenate()([x, skip_features])\n",
        "    x = conv_block(x, num_filters)\n",
        "    return x\n",
        "\n",
        "\n",
        "input_layer = Input(shape=(32, 32, 32, 64))\n",
        "skip_features = Input(shape=(64, 64, 64, 32))\n",
        "decoder_output = decoder_block(input_layer, skip_features, num_filters=32)\n"
      ],
      "metadata": {
        "id": "6QFDYGFxMbNI"
      },
      "execution_count": null,
      "outputs": []
    },
    {
      "cell_type": "markdown",
      "source": [
        "# U-Net Architecture Definition\n",
        "In this, the U-Net architecture is defined as a function, 'build_unet'. The network comprises encoder and decoder blocks, which progressively downsample and then upsample the input data, and a bridge connecting them. The number of classes in the output determines the final layer's activation function, either 'sigmoid' for binary or 'softmax' for multiclass classification."
      ],
      "metadata": {
        "id": "_KbuiqLqNRAL"
      }
    },
    {
      "cell_type": "code",
      "source": [
        "def build_unet(input_shape, n_classes):\n",
        "    inputs = Input(input_shape)\n",
        "\n",
        "    s1, p1 = encoder_block(inputs, 64)\n",
        "    s2, p2 = encoder_block(p1, 128)\n",
        "    s3, p3 = encoder_block(p2, 256)\n",
        "    s4, p4 = encoder_block(p3, 512)\n",
        "\n",
        "    b1 = conv_block(p4, 1024)  # Bridge\n",
        "\n",
        "    d1 = decoder_block(b1, s4, 512)\n",
        "    d2 = decoder_block(d1, s3, 256)\n",
        "    d3 = decoder_block(d2, s2, 128)\n",
        "    d4 = decoder_block(d3, s1, 64)\n",
        "\n",
        "    if n_classes == 1:  # Binary\n",
        "        activation = 'sigmoid'\n",
        "    else:\n",
        "        activation = 'softmax'\n",
        "\n",
        "    outputs = Conv3D(n_classes, (1, 1, 1), padding=\"same\", activation=activation)(d4)  # Change the activation based on n_classes\n",
        "\n",
        "    model = Model(inputs=inputs, outputs=outputs, name=\"U-Net\")\n",
        "    return model\n",
        "\n",
        "\n",
        "input_shape = (128, 128, 128, 3)\n",
        "n_classes = 1  # Number of output classes\n",
        "unet_model = build_unet(input_shape, n_classes)"
      ],
      "metadata": {
        "id": "MiNkHK7sMbUl"
      },
      "execution_count": null,
      "outputs": []
    },
    {
      "cell_type": "markdown",
      "source": [
        "# U-Net Model Initialization\n",
        "In this code, a U-Net model is initialized using the build_unet function. The U-Net architecture is constructed with specific input shape and the desired number of output classes.\n"
      ],
      "metadata": {
        "id": "ODGpi8j3Nbgc"
      }
    },
    {
      "cell_type": "code",
      "source": [
        "input_shape = (64, 64, 64, 3)\n",
        "n_classes = 4  # Number of output classes\n",
        "my_model = build_unet(input_shape, n_classes)"
      ],
      "metadata": {
        "id": "YjHx4wGYMbX9"
      },
      "execution_count": null,
      "outputs": []
    },
    {
      "cell_type": "markdown",
      "source": [
        "# Model Summary"
      ],
      "metadata": {
        "id": "LwZuw19xNh9r"
      }
    },
    {
      "cell_type": "code",
      "source": [
        "my_model.summary()"
      ],
      "metadata": {
        "colab": {
          "base_uri": "https://localhost:8080/"
        },
        "id": "eNlloBhsMbcN",
        "outputId": "6fabbbb9-854f-4c77-d9b7-8e5c3ef596fc"
      },
      "execution_count": null,
      "outputs": [
        {
          "output_type": "stream",
          "name": "stdout",
          "text": [
            "Model: \"U-Net\"\n",
            "__________________________________________________________________________________________________\n",
            " Layer (type)                Output Shape                 Param #   Connected to                  \n",
            "==================================================================================================\n",
            " input_6 (InputLayer)        [(None, 64, 64, 64, 3)]      0         []                            \n",
            "                                                                                                  \n",
            " conv3d_25 (Conv3D)          (None, 64, 64, 64, 64)       5248      ['input_6[0][0]']             \n",
            "                                                                                                  \n",
            " batch_normalization_24 (Ba  (None, 64, 64, 64, 64)       256       ['conv3d_25[0][0]']           \n",
            " tchNormalization)                                                                                \n",
            "                                                                                                  \n",
            " activation_24 (Activation)  (None, 64, 64, 64, 64)       0         ['batch_normalization_24[0][0]\n",
            "                                                                    ']                            \n",
            "                                                                                                  \n",
            " conv3d_26 (Conv3D)          (None, 64, 64, 64, 64)       110656    ['activation_24[0][0]']       \n",
            "                                                                                                  \n",
            " batch_normalization_25 (Ba  (None, 64, 64, 64, 64)       256       ['conv3d_26[0][0]']           \n",
            " tchNormalization)                                                                                \n",
            "                                                                                                  \n",
            " activation_25 (Activation)  (None, 64, 64, 64, 64)       0         ['batch_normalization_25[0][0]\n",
            "                                                                    ']                            \n",
            "                                                                                                  \n",
            " max_pooling3d_5 (MaxPoolin  (None, 32, 32, 32, 64)       0         ['activation_25[0][0]']       \n",
            " g3D)                                                                                             \n",
            "                                                                                                  \n",
            " conv3d_27 (Conv3D)          (None, 32, 32, 32, 128)      221312    ['max_pooling3d_5[0][0]']     \n",
            "                                                                                                  \n",
            " batch_normalization_26 (Ba  (None, 32, 32, 32, 128)      512       ['conv3d_27[0][0]']           \n",
            " tchNormalization)                                                                                \n",
            "                                                                                                  \n",
            " activation_26 (Activation)  (None, 32, 32, 32, 128)      0         ['batch_normalization_26[0][0]\n",
            "                                                                    ']                            \n",
            "                                                                                                  \n",
            " conv3d_28 (Conv3D)          (None, 32, 32, 32, 128)      442496    ['activation_26[0][0]']       \n",
            "                                                                                                  \n",
            " batch_normalization_27 (Ba  (None, 32, 32, 32, 128)      512       ['conv3d_28[0][0]']           \n",
            " tchNormalization)                                                                                \n",
            "                                                                                                  \n",
            " activation_27 (Activation)  (None, 32, 32, 32, 128)      0         ['batch_normalization_27[0][0]\n",
            "                                                                    ']                            \n",
            "                                                                                                  \n",
            " max_pooling3d_6 (MaxPoolin  (None, 16, 16, 16, 128)      0         ['activation_27[0][0]']       \n",
            " g3D)                                                                                             \n",
            "                                                                                                  \n",
            " conv3d_29 (Conv3D)          (None, 16, 16, 16, 256)      884992    ['max_pooling3d_6[0][0]']     \n",
            "                                                                                                  \n",
            " batch_normalization_28 (Ba  (None, 16, 16, 16, 256)      1024      ['conv3d_29[0][0]']           \n",
            " tchNormalization)                                                                                \n",
            "                                                                                                  \n",
            " activation_28 (Activation)  (None, 16, 16, 16, 256)      0         ['batch_normalization_28[0][0]\n",
            "                                                                    ']                            \n",
            "                                                                                                  \n",
            " conv3d_30 (Conv3D)          (None, 16, 16, 16, 256)      1769728   ['activation_28[0][0]']       \n",
            "                                                                                                  \n",
            " batch_normalization_29 (Ba  (None, 16, 16, 16, 256)      1024      ['conv3d_30[0][0]']           \n",
            " tchNormalization)                                                                                \n",
            "                                                                                                  \n",
            " activation_29 (Activation)  (None, 16, 16, 16, 256)      0         ['batch_normalization_29[0][0]\n",
            "                                                                    ']                            \n",
            "                                                                                                  \n",
            " max_pooling3d_7 (MaxPoolin  (None, 8, 8, 8, 256)         0         ['activation_29[0][0]']       \n",
            " g3D)                                                                                             \n",
            "                                                                                                  \n",
            " conv3d_31 (Conv3D)          (None, 8, 8, 8, 512)         3539456   ['max_pooling3d_7[0][0]']     \n",
            "                                                                                                  \n",
            " batch_normalization_30 (Ba  (None, 8, 8, 8, 512)         2048      ['conv3d_31[0][0]']           \n",
            " tchNormalization)                                                                                \n",
            "                                                                                                  \n",
            " activation_30 (Activation)  (None, 8, 8, 8, 512)         0         ['batch_normalization_30[0][0]\n",
            "                                                                    ']                            \n",
            "                                                                                                  \n",
            " conv3d_32 (Conv3D)          (None, 8, 8, 8, 512)         7078400   ['activation_30[0][0]']       \n",
            "                                                                                                  \n",
            " batch_normalization_31 (Ba  (None, 8, 8, 8, 512)         2048      ['conv3d_32[0][0]']           \n",
            " tchNormalization)                                                                                \n",
            "                                                                                                  \n",
            " activation_31 (Activation)  (None, 8, 8, 8, 512)         0         ['batch_normalization_31[0][0]\n",
            "                                                                    ']                            \n",
            "                                                                                                  \n",
            " max_pooling3d_8 (MaxPoolin  (None, 4, 4, 4, 512)         0         ['activation_31[0][0]']       \n",
            " g3D)                                                                                             \n",
            "                                                                                                  \n",
            " conv3d_33 (Conv3D)          (None, 4, 4, 4, 1024)        1415680   ['max_pooling3d_8[0][0]']     \n",
            "                                                          0                                       \n",
            "                                                                                                  \n",
            " batch_normalization_32 (Ba  (None, 4, 4, 4, 1024)        4096      ['conv3d_33[0][0]']           \n",
            " tchNormalization)                                                                                \n",
            "                                                                                                  \n",
            " activation_32 (Activation)  (None, 4, 4, 4, 1024)        0         ['batch_normalization_32[0][0]\n",
            "                                                                    ']                            \n",
            "                                                                                                  \n",
            " conv3d_34 (Conv3D)          (None, 4, 4, 4, 1024)        2831257   ['activation_32[0][0]']       \n",
            "                                                          6                                       \n",
            "                                                                                                  \n",
            " batch_normalization_33 (Ba  (None, 4, 4, 4, 1024)        4096      ['conv3d_34[0][0]']           \n",
            " tchNormalization)                                                                                \n",
            "                                                                                                  \n",
            " activation_33 (Activation)  (None, 4, 4, 4, 1024)        0         ['batch_normalization_33[0][0]\n",
            "                                                                    ']                            \n",
            "                                                                                                  \n",
            " conv3d_transpose_5 (Conv3D  (None, 8, 8, 8, 512)         4194816   ['activation_33[0][0]']       \n",
            " Transpose)                                                                                       \n",
            "                                                                                                  \n",
            " concatenate_5 (Concatenate  (None, 8, 8, 8, 1024)        0         ['conv3d_transpose_5[0][0]',  \n",
            " )                                                                   'activation_31[0][0]']       \n",
            "                                                                                                  \n",
            " conv3d_35 (Conv3D)          (None, 8, 8, 8, 512)         1415628   ['concatenate_5[0][0]']       \n",
            "                                                          8                                       \n",
            "                                                                                                  \n",
            " batch_normalization_34 (Ba  (None, 8, 8, 8, 512)         2048      ['conv3d_35[0][0]']           \n",
            " tchNormalization)                                                                                \n",
            "                                                                                                  \n",
            " activation_34 (Activation)  (None, 8, 8, 8, 512)         0         ['batch_normalization_34[0][0]\n",
            "                                                                    ']                            \n",
            "                                                                                                  \n",
            " conv3d_36 (Conv3D)          (None, 8, 8, 8, 512)         7078400   ['activation_34[0][0]']       \n",
            "                                                                                                  \n",
            " batch_normalization_35 (Ba  (None, 8, 8, 8, 512)         2048      ['conv3d_36[0][0]']           \n",
            " tchNormalization)                                                                                \n",
            "                                                                                                  \n",
            " activation_35 (Activation)  (None, 8, 8, 8, 512)         0         ['batch_normalization_35[0][0]\n",
            "                                                                    ']                            \n",
            "                                                                                                  \n",
            " conv3d_transpose_6 (Conv3D  (None, 16, 16, 16, 256)      1048832   ['activation_35[0][0]']       \n",
            " Transpose)                                                                                       \n",
            "                                                                                                  \n",
            " concatenate_6 (Concatenate  (None, 16, 16, 16, 512)      0         ['conv3d_transpose_6[0][0]',  \n",
            " )                                                                   'activation_29[0][0]']       \n",
            "                                                                                                  \n",
            " conv3d_37 (Conv3D)          (None, 16, 16, 16, 256)      3539200   ['concatenate_6[0][0]']       \n",
            "                                                                                                  \n",
            " batch_normalization_36 (Ba  (None, 16, 16, 16, 256)      1024      ['conv3d_37[0][0]']           \n",
            " tchNormalization)                                                                                \n",
            "                                                                                                  \n",
            " activation_36 (Activation)  (None, 16, 16, 16, 256)      0         ['batch_normalization_36[0][0]\n",
            "                                                                    ']                            \n",
            "                                                                                                  \n",
            " conv3d_38 (Conv3D)          (None, 16, 16, 16, 256)      1769728   ['activation_36[0][0]']       \n",
            "                                                                                                  \n",
            " batch_normalization_37 (Ba  (None, 16, 16, 16, 256)      1024      ['conv3d_38[0][0]']           \n",
            " tchNormalization)                                                                                \n",
            "                                                                                                  \n",
            " activation_37 (Activation)  (None, 16, 16, 16, 256)      0         ['batch_normalization_37[0][0]\n",
            "                                                                    ']                            \n",
            "                                                                                                  \n",
            " conv3d_transpose_7 (Conv3D  (None, 32, 32, 32, 128)      262272    ['activation_37[0][0]']       \n",
            " Transpose)                                                                                       \n",
            "                                                                                                  \n",
            " concatenate_7 (Concatenate  (None, 32, 32, 32, 256)      0         ['conv3d_transpose_7[0][0]',  \n",
            " )                                                                   'activation_27[0][0]']       \n",
            "                                                                                                  \n",
            " conv3d_39 (Conv3D)          (None, 32, 32, 32, 128)      884864    ['concatenate_7[0][0]']       \n",
            "                                                                                                  \n",
            " batch_normalization_38 (Ba  (None, 32, 32, 32, 128)      512       ['conv3d_39[0][0]']           \n",
            " tchNormalization)                                                                                \n",
            "                                                                                                  \n",
            " activation_38 (Activation)  (None, 32, 32, 32, 128)      0         ['batch_normalization_38[0][0]\n",
            "                                                                    ']                            \n",
            "                                                                                                  \n",
            " conv3d_40 (Conv3D)          (None, 32, 32, 32, 128)      442496    ['activation_38[0][0]']       \n",
            "                                                                                                  \n",
            " batch_normalization_39 (Ba  (None, 32, 32, 32, 128)      512       ['conv3d_40[0][0]']           \n",
            " tchNormalization)                                                                                \n",
            "                                                                                                  \n",
            " activation_39 (Activation)  (None, 32, 32, 32, 128)      0         ['batch_normalization_39[0][0]\n",
            "                                                                    ']                            \n",
            "                                                                                                  \n",
            " conv3d_transpose_8 (Conv3D  (None, 64, 64, 64, 64)       65600     ['activation_39[0][0]']       \n",
            " Transpose)                                                                                       \n",
            "                                                                                                  \n",
            " concatenate_8 (Concatenate  (None, 64, 64, 64, 128)      0         ['conv3d_transpose_8[0][0]',  \n",
            " )                                                                   'activation_25[0][0]']       \n",
            "                                                                                                  \n",
            " conv3d_41 (Conv3D)          (None, 64, 64, 64, 64)       221248    ['concatenate_8[0][0]']       \n",
            "                                                                                                  \n",
            " batch_normalization_40 (Ba  (None, 64, 64, 64, 64)       256       ['conv3d_41[0][0]']           \n",
            " tchNormalization)                                                                                \n",
            "                                                                                                  \n",
            " activation_40 (Activation)  (None, 64, 64, 64, 64)       0         ['batch_normalization_40[0][0]\n",
            "                                                                    ']                            \n",
            "                                                                                                  \n",
            " conv3d_42 (Conv3D)          (None, 64, 64, 64, 64)       110656    ['activation_40[0][0]']       \n",
            "                                                                                                  \n",
            " batch_normalization_41 (Ba  (None, 64, 64, 64, 64)       256       ['conv3d_42[0][0]']           \n",
            " tchNormalization)                                                                                \n",
            "                                                                                                  \n",
            " activation_41 (Activation)  (None, 64, 64, 64, 64)       0         ['batch_normalization_41[0][0]\n",
            "                                                                    ']                            \n",
            "                                                                                                  \n",
            " conv3d_43 (Conv3D)          (None, 64, 64, 64, 4)        260       ['activation_41[0][0]']       \n",
            "                                                                                                  \n",
            "==================================================================================================\n",
            "Total params: 90319876 (344.54 MB)\n",
            "Trainable params: 90308100 (344.50 MB)\n",
            "Non-trainable params: 11776 (46.00 KB)\n",
            "__________________________________________________________________________________________________\n"
          ]
        }
      ]
    },
    {
      "cell_type": "markdown",
      "source": [
        "# Input Shape Inquiry"
      ],
      "metadata": {
        "id": "05qENC2VNv-b"
      }
    },
    {
      "cell_type": "code",
      "source": [
        "my_model.input_shape"
      ],
      "metadata": {
        "colab": {
          "base_uri": "https://localhost:8080/"
        },
        "id": "6t1DqgaxNrEr",
        "outputId": "93b7bd80-44f4-4bed-bf6a-053387229b17"
      },
      "execution_count": null,
      "outputs": [
        {
          "output_type": "execute_result",
          "data": {
            "text/plain": [
              "(None, 64, 64, 64, 3)"
            ]
          },
          "metadata": {},
          "execution_count": 15
        }
      ]
    },
    {
      "cell_type": "code",
      "source": [
        "print(tf.__version__)\n",
        "print(keras.__version__)"
      ],
      "metadata": {
        "colab": {
          "base_uri": "https://localhost:8080/"
        },
        "id": "4-ZDb2bONrNe",
        "outputId": "0c6f96d7-1078-4fb8-da27-96ae16503439"
      },
      "execution_count": null,
      "outputs": [
        {
          "output_type": "stream",
          "name": "stdout",
          "text": [
            "2.14.0\n",
            "2.14.0\n"
          ]
        }
      ]
    },
    {
      "cell_type": "code",
      "source": [
        "device_name = tf.test.gpu_device_name()\n",
        "if device_name != '/device:GPU:0':\n",
        "  raise SystemError('GPU device not found')\n",
        "print('Found GPU at: {}'.format(device_name))"
      ],
      "metadata": {
        "colab": {
          "base_uri": "https://localhost:8080/"
        },
        "id": "dF_5nOtLNrQb",
        "outputId": "fc23bb9b-03ac-4f3d-a26a-f56045a42294"
      },
      "execution_count": null,
      "outputs": [
        {
          "output_type": "stream",
          "name": "stdout",
          "text": [
            "Found GPU at: /device:GPU:0\n"
          ]
        }
      ]
    },
    {
      "cell_type": "code",
      "source": [
        "from google.colab import drive\n",
        "drive.mount('/content/drive')"
      ],
      "metadata": {
        "colab": {
          "base_uri": "https://localhost:8080/"
        },
        "id": "isM8JlH1Ss9i",
        "outputId": "7ad60e4e-ba64-4408-f698-402787ad65f5"
      },
      "execution_count": null,
      "outputs": [
        {
          "output_type": "stream",
          "name": "stdout",
          "text": [
            "Mounted at /content/drive\n"
          ]
        }
      ]
    },
    {
      "cell_type": "markdown",
      "source": [
        "# Load Input Images and Masks"
      ],
      "metadata": {
        "id": "ARzRtPsjP3fD"
      }
    },
    {
      "cell_type": "code",
      "source": [
        "#Here we load 256x256x256 pixel volume. We will break it into patches of 64x64x64 for training.\n",
        "image = io.imread('/content/drive/MyDrive/3D_image_segmentation/data_for_3D_Unet/train_images_256_256_256.tif')\n",
        "img_patches = patchify(image, (64, 64, 64), step=64)\n",
        "\n",
        "mask = io.imread('/content/drive/MyDrive/3D_image_segmentation/data_for_3D_Unet/train_masks_256_256_256.tif')\n",
        "mask_patches = patchify(mask, (64, 64, 64), step=64)"
      ],
      "metadata": {
        "id": "35HWSKlGNrTT"
      },
      "execution_count": null,
      "outputs": []
    },
    {
      "cell_type": "markdown",
      "source": [
        "# Image Visualization"
      ],
      "metadata": {
        "id": "cOKYdjqYP-ab"
      }
    },
    {
      "cell_type": "code",
      "source": [
        "plt.imshow(img_patches[1,2,3,:,:,32])"
      ],
      "metadata": {
        "colab": {
          "base_uri": "https://localhost:8080/",
          "height": 449
        },
        "id": "iQboPuQ-NrWp",
        "outputId": "9a1f5e3f-ddb6-4091-c901-394a49c202e1"
      },
      "execution_count": null,
      "outputs": [
        {
          "output_type": "execute_result",
          "data": {
            "text/plain": [
              "<matplotlib.image.AxesImage at 0x7bc4c3fde1a0>"
            ]
          },
          "metadata": {},
          "execution_count": 21
        },
        {
          "output_type": "display_data",
          "data": {
            "text/plain": [
              "<Figure size 640x480 with 1 Axes>"
            ],
            "image/png": "[encoded data removed]"
          },
          "metadata": {}
        }
      ]
    },
    {
      "cell_type": "code",
      "source": [
        "plt.imshow(mask_patches[1,2,3,:,:,32])"
      ],
      "metadata": {
        "colab": {
          "base_uri": "https://localhost:8080/",
          "height": 449
        },
        "id": "jtnDqYhpNrae",
        "outputId": "70588022-7f1c-48cc-fc24-626e876b2053"
      },
      "execution_count": null,
      "outputs": [
        {
          "output_type": "execute_result",
          "data": {
            "text/plain": [
              "<matplotlib.image.AxesImage at 0x7bc4c011c100>"
            ]
          },
          "metadata": {},
          "execution_count": 22
        },
        {
          "output_type": "display_data",
          "data": {
            "text/plain": [
              "<Figure size 640x480 with 1 Axes>"
            ],
            "image/png": "[encoded data removed]"
          },
          "metadata": {}
        }
      ]
    },
    {
      "cell_type": "markdown",
      "source": [
        "# Reshaping Image and Mask Patches\n",
        " The code reshapes 5D NumPy arrays, img_patches and mask_patches, into 4D arrays to prepare them for further processing. The resulting shapes of input_img and input_mask are printed for reference."
      ],
      "metadata": {
        "id": "zvk7eGtli2Fr"
      }
    },
    {
      "cell_type": "code",
      "source": [
        "# Assuming img_patches and mask_patches are 5D NumPy arrays\n",
        "input_img = img_patches.reshape(-1, img_patches.shape[-3], img_patches.shape[-2], img_patches.shape[-1])\n",
        "input_mask = mask_patches.reshape(-1, mask_patches.shape[-3], mask_patches.shape[-2], mask_patches.shape[-1])\n",
        "\n",
        "print(input_img.shape)"
      ],
      "metadata": {
        "colab": {
          "base_uri": "https://localhost:8080/"
        },
        "id": "zzrHV2GmNreM",
        "outputId": "349b633b-7412-407b-a048-9b370c4c6ea7"
      },
      "execution_count": null,
      "outputs": [
        {
          "output_type": "stream",
          "name": "stdout",
          "text": [
            "(64, 64, 64, 64)\n"
          ]
        }
      ]
    },
    {
      "cell_type": "code",
      "source": [
        "n_classes=4"
      ],
      "metadata": {
        "id": "536ZNThIQvFr"
      },
      "execution_count": null,
      "outputs": []
    },
    {
      "cell_type": "markdown",
      "source": [
        "# Data Preprocessing and Splitting\n",
        "It converts a grayscale image into a 3-channel image, normalizes the image data, expands the dimensions of the mask, and converts the mask into one-hot encoding. Finally, it splits the data into training and testing sets using a 90-10 ratio."
      ],
      "metadata": {
        "id": "sJT9ZhDnkn5l"
      }
    },
    {
      "cell_type": "code",
      "source": [
        "# Assuming input_img and input_mask are available\n",
        "n_classes = 4\n",
        "\n",
        "# Convert grayscale image to 3 channels by copying the channel 3 times\n",
        "train_img = np.repeat(input_img, 3, axis=-1)\n",
        "\n",
        "# Normalize the image data\n",
        "train_img = train_img / 255.0\n",
        "\n",
        "# Expand dimensions for the mask\n",
        "train_mask = np.expand_dims(input_mask, axis=-1)\n",
        "\n",
        "# Convert the mask to one-hot encoding\n",
        "train_mask_cat = to_categorical(train_mask, num_classes=n_classes)\n",
        "\n",
        "# Split the data into training and testing sets\n",
        "X_train, X_test, y_train, y_test = train_test_split(train_img, train_mask_cat, test_size=0.2, random_state=0)"
      ],
      "metadata": {
        "id": "rrJ-m55mQvOe"
      },
      "execution_count": null,
      "outputs": []
    },
    {
      "cell_type": "markdown",
      "source": [
        "# Custom Dice Coefficient and Dice Coefficient Loss Functions\n",
        "This cell defines two custom functions for calculating the Dice coefficient and the Dice coefficient loss.The dice_coefficient function calculates the Dice coefficient between two input tensors, while the dice_coefficient_loss function computes the loss based on the Dice coefficient."
      ],
      "metadata": {
        "id": "-CCJYYbemmiW"
      }
    },
    {
      "cell_type": "code",
      "source": [
        "def dice_coefficient(y_true, y_pred, smoothing_factor=1):\n",
        "    flat_y_true = tf.reshape(y_true, [-1])\n",
        "    flat_y_pred = tf.reshape(y_pred, [-1])\n",
        "    intersection = tf.reduce_sum(flat_y_true * flat_y_pred)\n",
        "    return (2.0 * intersection + smoothing_factor) / (tf.reduce_sum(flat_y_true) + tf.reduce_sum(flat_y_pred) + smoothing_factor)\n",
        "\n",
        "def dice_coefficient_loss(y_true, y_pred):\n",
        "    return 1.0 - dice_coefficient(y_true, y_pred)"
      ],
      "metadata": {
        "id": "i6xCs_ZDQvRb"
      },
      "execution_count": null,
      "outputs": []
    },
    {
      "cell_type": "markdown",
      "source": [
        "# Model Configuration and Hyperparameters\n",
        "In this cell, the patch size for input data is set to 64, and the number of channels in the input data is defined as 3, indicating a 3-channel image. Additionally, a learning rate of 0.0001 is chosen for the Adam optimizer"
      ],
      "metadata": {
        "id": "afLgA699nTZj"
      }
    },
    {
      "cell_type": "code",
      "source": [
        "patch_size = 64\n",
        "channels = 3\n",
        "\n",
        "LR = 0.0001\n",
        "optimizer = tf.keras.optimizers.Adam(learning_rate=LR)"
      ],
      "metadata": {
        "id": "ReMHG_TpQvUj"
      },
      "execution_count": null,
      "outputs": []
    },
    {
      "cell_type": "markdown",
      "source": [
        "#  Model Definition and Initialization\n",
        " In this cell, a neural network model is defined.The model is built using the build_unet function, which takes the specified input shape and the number of classes as parameters. This step is essential for creating the architecture of the model that will be used for tasks where the model learns to classify pixels into one of the specified classes."
      ],
      "metadata": {
        "id": "8NvW96gSnuei"
      }
    },
    {
      "cell_type": "code",
      "source": [
        "input_shape = (patch_size, patch_size, patch_size, channels)\n",
        "n_classes = 4\n",
        "\n",
        "model = build_unet(input_shape, n_classes)"
      ],
      "metadata": {
        "id": "IPYyR40eQvXq"
      },
      "execution_count": null,
      "outputs": []
    },
    {
      "cell_type": "markdown",
      "source": [
        "# Model Compilation and Summary\n",
        "It specifies the optimizer (in this case, the Adam optimizer with the defined learning rate), the loss function (Dice coefficient loss), and the evaluation metric (Dice coefficient). After compilation, it prints a summary of the model's architecture, providing details about the layers, parameters, and output shapes."
      ],
      "metadata": {
        "id": "IcvqjY1koUVb"
      }
    },
    {
      "cell_type": "code",
      "source": [
        "model.compile(optimizer=optimizer, loss=dice_coefficient_loss, metrics=[dice_coefficient])\n",
        "print(model.summary())"
      ],
      "metadata": {
        "colab": {
          "base_uri": "https://localhost:8080/"
        },
        "id": "5CQQ92RyQva1",
        "outputId": "4bd33257-5f06-4bd5-9dd6-eab6e29ff9ce"
      },
      "execution_count": null,
      "outputs": [
        {
          "output_type": "stream",
          "name": "stdout",
          "text": [
            "Model: \"U-Net\"\n",
            "__________________________________________________________________________________________________\n",
            " Layer (type)                Output Shape                 Param #   Connected to                  \n",
            "==================================================================================================\n",
            " input_7 (InputLayer)        [(None, 64, 64, 64, 3)]      0         []                            \n",
            "                                                                                                  \n",
            " conv3d_44 (Conv3D)          (None, 64, 64, 64, 64)       5248      ['input_7[0][0]']             \n",
            "                                                                                                  \n",
            " batch_normalization_42 (Ba  (None, 64, 64, 64, 64)       256       ['conv3d_44[0][0]']           \n",
            " tchNormalization)                                                                                \n",
            "                                                                                                  \n",
            " activation_42 (Activation)  (None, 64, 64, 64, 64)       0         ['batch_normalization_42[0][0]\n",
            "                                                                    ']                            \n",
            "                                                                                                  \n",
            " conv3d_45 (Conv3D)          (None, 64, 64, 64, 64)       110656    ['activation_42[0][0]']       \n",
            "                                                                                                  \n",
            " batch_normalization_43 (Ba  (None, 64, 64, 64, 64)       256       ['conv3d_45[0][0]']           \n",
            " tchNormalization)                                                                                \n",
            "                                                                                                  \n",
            " activation_43 (Activation)  (None, 64, 64, 64, 64)       0         ['batch_normalization_43[0][0]\n",
            "                                                                    ']                            \n",
            "                                                                                                  \n",
            " max_pooling3d_9 (MaxPoolin  (None, 32, 32, 32, 64)       0         ['activation_43[0][0]']       \n",
            " g3D)                                                                                             \n",
            "                                                                                                  \n",
            " conv3d_46 (Conv3D)          (None, 32, 32, 32, 128)      221312    ['max_pooling3d_9[0][0]']     \n",
            "                                                                                                  \n",
            " batch_normalization_44 (Ba  (None, 32, 32, 32, 128)      512       ['conv3d_46[0][0]']           \n",
            " tchNormalization)                                                                                \n",
            "                                                                                                  \n",
            " activation_44 (Activation)  (None, 32, 32, 32, 128)      0         ['batch_normalization_44[0][0]\n",
            "                                                                    ']                            \n",
            "                                                                                                  \n",
            " conv3d_47 (Conv3D)          (None, 32, 32, 32, 128)      442496    ['activation_44[0][0]']       \n",
            "                                                                                                  \n",
            " batch_normalization_45 (Ba  (None, 32, 32, 32, 128)      512       ['conv3d_47[0][0]']           \n",
            " tchNormalization)                                                                                \n",
            "                                                                                                  \n",
            " activation_45 (Activation)  (None, 32, 32, 32, 128)      0         ['batch_normalization_45[0][0]\n",
            "                                                                    ']                            \n",
            "                                                                                                  \n",
            " max_pooling3d_10 (MaxPooli  (None, 16, 16, 16, 128)      0         ['activation_45[0][0]']       \n",
            " ng3D)                                                                                            \n",
            "                                                                                                  \n",
            " conv3d_48 (Conv3D)          (None, 16, 16, 16, 256)      884992    ['max_pooling3d_10[0][0]']    \n",
            "                                                                                                  \n",
            " batch_normalization_46 (Ba  (None, 16, 16, 16, 256)      1024      ['conv3d_48[0][0]']           \n",
            " tchNormalization)                                                                                \n",
            "                                                                                                  \n",
            " activation_46 (Activation)  (None, 16, 16, 16, 256)      0         ['batch_normalization_46[0][0]\n",
            "                                                                    ']                            \n",
            "                                                                                                  \n",
            " conv3d_49 (Conv3D)          (None, 16, 16, 16, 256)      1769728   ['activation_46[0][0]']       \n",
            "                                                                                                  \n",
            " batch_normalization_47 (Ba  (None, 16, 16, 16, 256)      1024      ['conv3d_49[0][0]']           \n",
            " tchNormalization)                                                                                \n",
            "                                                                                                  \n",
            " activation_47 (Activation)  (None, 16, 16, 16, 256)      0         ['batch_normalization_47[0][0]\n",
            "                                                                    ']                            \n",
            "                                                                                                  \n",
            " max_pooling3d_11 (MaxPooli  (None, 8, 8, 8, 256)         0         ['activation_47[0][0]']       \n",
            " ng3D)                                                                                            \n",
            "                                                                                                  \n",
            " conv3d_50 (Conv3D)          (None, 8, 8, 8, 512)         3539456   ['max_pooling3d_11[0][0]']    \n",
            "                                                                                                  \n",
            " batch_normalization_48 (Ba  (None, 8, 8, 8, 512)         2048      ['conv3d_50[0][0]']           \n",
            " tchNormalization)                                                                                \n",
            "                                                                                                  \n",
            " activation_48 (Activation)  (None, 8, 8, 8, 512)         0         ['batch_normalization_48[0][0]\n",
            "                                                                    ']                            \n",
            "                                                                                                  \n",
            " conv3d_51 (Conv3D)          (None, 8, 8, 8, 512)         7078400   ['activation_48[0][0]']       \n",
            "                                                                                                  \n",
            " batch_normalization_49 (Ba  (None, 8, 8, 8, 512)         2048      ['conv3d_51[0][0]']           \n",
            " tchNormalization)                                                                                \n",
            "                                                                                                  \n",
            " activation_49 (Activation)  (None, 8, 8, 8, 512)         0         ['batch_normalization_49[0][0]\n",
            "                                                                    ']                            \n",
            "                                                                                                  \n",
            " max_pooling3d_12 (MaxPooli  (None, 4, 4, 4, 512)         0         ['activation_49[0][0]']       \n",
            " ng3D)                                                                                            \n",
            "                                                                                                  \n",
            " conv3d_52 (Conv3D)          (None, 4, 4, 4, 1024)        1415680   ['max_pooling3d_12[0][0]']    \n",
            "                                                          0                                       \n",
            "                                                                                                  \n",
            " batch_normalization_50 (Ba  (None, 4, 4, 4, 1024)        4096      ['conv3d_52[0][0]']           \n",
            " tchNormalization)                                                                                \n",
            "                                                                                                  \n",
            " activation_50 (Activation)  (None, 4, 4, 4, 1024)        0         ['batch_normalization_50[0][0]\n",
            "                                                                    ']                            \n",
            "                                                                                                  \n",
            " conv3d_53 (Conv3D)          (None, 4, 4, 4, 1024)        2831257   ['activation_50[0][0]']       \n",
            "                                                          6                                       \n",
            "                                                                                                  \n",
            " batch_normalization_51 (Ba  (None, 4, 4, 4, 1024)        4096      ['conv3d_53[0][0]']           \n",
            " tchNormalization)                                                                                \n",
            "                                                                                                  \n",
            " activation_51 (Activation)  (None, 4, 4, 4, 1024)        0         ['batch_normalization_51[0][0]\n",
            "                                                                    ']                            \n",
            "                                                                                                  \n",
            " conv3d_transpose_9 (Conv3D  (None, 8, 8, 8, 512)         4194816   ['activation_51[0][0]']       \n",
            " Transpose)                                                                                       \n",
            "                                                                                                  \n",
            " concatenate_9 (Concatenate  (None, 8, 8, 8, 1024)        0         ['conv3d_transpose_9[0][0]',  \n",
            " )                                                                   'activation_49[0][0]']       \n",
            "                                                                                                  \n",
            " conv3d_54 (Conv3D)          (None, 8, 8, 8, 512)         1415628   ['concatenate_9[0][0]']       \n",
            "                                                          8                                       \n",
            "                                                                                                  \n",
            " batch_normalization_52 (Ba  (None, 8, 8, 8, 512)         2048      ['conv3d_54[0][0]']           \n",
            " tchNormalization)                                                                                \n",
            "                                                                                                  \n",
            " activation_52 (Activation)  (None, 8, 8, 8, 512)         0         ['batch_normalization_52[0][0]\n",
            "                                                                    ']                            \n",
            "                                                                                                  \n",
            " conv3d_55 (Conv3D)          (None, 8, 8, 8, 512)         7078400   ['activation_52[0][0]']       \n",
            "                                                                                                  \n",
            " batch_normalization_53 (Ba  (None, 8, 8, 8, 512)         2048      ['conv3d_55[0][0]']           \n",
            " tchNormalization)                                                                                \n",
            "                                                                                                  \n",
            " activation_53 (Activation)  (None, 8, 8, 8, 512)         0         ['batch_normalization_53[0][0]\n",
            "                                                                    ']                            \n",
            "                                                                                                  \n",
            " conv3d_transpose_10 (Conv3  (None, 16, 16, 16, 256)      1048832   ['activation_53[0][0]']       \n",
            " DTranspose)                                                                                      \n",
            "                                                                                                  \n",
            " concatenate_10 (Concatenat  (None, 16, 16, 16, 512)      0         ['conv3d_transpose_10[0][0]', \n",
            " e)                                                                  'activation_47[0][0]']       \n",
            "                                                                                                  \n",
            " conv3d_56 (Conv3D)          (None, 16, 16, 16, 256)      3539200   ['concatenate_10[0][0]']      \n",
            "                                                                                                  \n",
            " batch_normalization_54 (Ba  (None, 16, 16, 16, 256)      1024      ['conv3d_56[0][0]']           \n",
            " tchNormalization)                                                                                \n",
            "                                                                                                  \n",
            " activation_54 (Activation)  (None, 16, 16, 16, 256)      0         ['batch_normalization_54[0][0]\n",
            "                                                                    ']                            \n",
            "                                                                                                  \n",
            " conv3d_57 (Conv3D)          (None, 16, 16, 16, 256)      1769728   ['activation_54[0][0]']       \n",
            "                                                                                                  \n",
            " batch_normalization_55 (Ba  (None, 16, 16, 16, 256)      1024      ['conv3d_57[0][0]']           \n",
            " tchNormalization)                                                                                \n",
            "                                                                                                  \n",
            " activation_55 (Activation)  (None, 16, 16, 16, 256)      0         ['batch_normalization_55[0][0]\n",
            "                                                                    ']                            \n",
            "                                                                                                  \n",
            " conv3d_transpose_11 (Conv3  (None, 32, 32, 32, 128)      262272    ['activation_55[0][0]']       \n",
            " DTranspose)                                                                                      \n",
            "                                                                                                  \n",
            " concatenate_11 (Concatenat  (None, 32, 32, 32, 256)      0         ['conv3d_transpose_11[0][0]', \n",
            " e)                                                                  'activation_45[0][0]']       \n",
            "                                                                                                  \n",
            " conv3d_58 (Conv3D)          (None, 32, 32, 32, 128)      884864    ['concatenate_11[0][0]']      \n",
            "                                                                                                  \n",
            " batch_normalization_56 (Ba  (None, 32, 32, 32, 128)      512       ['conv3d_58[0][0]']           \n",
            " tchNormalization)                                                                                \n",
            "                                                                                                  \n",
            " activation_56 (Activation)  (None, 32, 32, 32, 128)      0         ['batch_normalization_56[0][0]\n",
            "                                                                    ']                            \n",
            "                                                                                                  \n",
            " conv3d_59 (Conv3D)          (None, 32, 32, 32, 128)      442496    ['activation_56[0][0]']       \n",
            "                                                                                                  \n",
            " batch_normalization_57 (Ba  (None, 32, 32, 32, 128)      512       ['conv3d_59[0][0]']           \n",
            " tchNormalization)                                                                                \n",
            "                                                                                                  \n",
            " activation_57 (Activation)  (None, 32, 32, 32, 128)      0         ['batch_normalization_57[0][0]\n",
            "                                                                    ']                            \n",
            "                                                                                                  \n",
            " conv3d_transpose_12 (Conv3  (None, 64, 64, 64, 64)       65600     ['activation_57[0][0]']       \n",
            " DTranspose)                                                                                      \n",
            "                                                                                                  \n",
            " concatenate_12 (Concatenat  (None, 64, 64, 64, 128)      0         ['conv3d_transpose_12[0][0]', \n",
            " e)                                                                  'activation_43[0][0]']       \n",
            "                                                                                                  \n",
            " conv3d_60 (Conv3D)          (None, 64, 64, 64, 64)       221248    ['concatenate_12[0][0]']      \n",
            "                                                                                                  \n",
            " batch_normalization_58 (Ba  (None, 64, 64, 64, 64)       256       ['conv3d_60[0][0]']           \n",
            " tchNormalization)                                                                                \n",
            "                                                                                                  \n",
            " activation_58 (Activation)  (None, 64, 64, 64, 64)       0         ['batch_normalization_58[0][0]\n",
            "                                                                    ']                            \n",
            "                                                                                                  \n",
            " conv3d_61 (Conv3D)          (None, 64, 64, 64, 64)       110656    ['activation_58[0][0]']       \n",
            "                                                                                                  \n",
            " batch_normalization_59 (Ba  (None, 64, 64, 64, 64)       256       ['conv3d_61[0][0]']           \n",
            " tchNormalization)                                                                                \n",
            "                                                                                                  \n",
            " activation_59 (Activation)  (None, 64, 64, 64, 64)       0         ['batch_normalization_59[0][0]\n",
            "                                                                    ']                            \n",
            "                                                                                                  \n",
            " conv3d_62 (Conv3D)          (None, 64, 64, 64, 4)        260       ['activation_59[0][0]']       \n",
            "                                                                                                  \n",
            "==================================================================================================\n",
            "Total params: 90319876 (344.54 MB)\n",
            "Trainable params: 90308100 (344.50 MB)\n",
            "Non-trainable params: 11776 (46.00 KB)\n",
            "__________________________________________________________________________________________________\n",
            "None\n"
          ]
        }
      ]
    },
    {
      "cell_type": "markdown",
      "source": [
        "#  Data Reshaping for Model Compatibility\n",
        "In this cell, the training and testing data, represented by X_train and X_test, are reshaped to match the expected input shape of the neural network model."
      ],
      "metadata": {
        "id": "62CbrGy1pLJZ"
      }
    },
    {
      "cell_type": "code",
      "source": [
        "# Reshape input data to match the expected shape of the model\n",
        "X_train = X_train.reshape(-1, 64, 64, 64, 3)\n",
        "\n",
        "# Also reshape X_test to match the model's input shape\n",
        "X_test = X_test.reshape(-1, 64, 64, 64, 3)"
      ],
      "metadata": {
        "id": "QK1l1xhGQvdX"
      },
      "execution_count": null,
      "outputs": []
    },
    {
      "cell_type": "markdown",
      "source": [
        "# Model and Data Information\n",
        "various aspects related to the model and input data are displayed for reference. The model.input_shape and model.output_shape provide information about the expected shape of the model's input and output, respectively. Additionally, the shapes of the training data (X_train and y_train) are printed to check their compatibility with the model. Finally, the maximum value in the training data is displayed for insight into the data range."
      ],
      "metadata": {
        "id": "eGH3hEw_plHh"
      }
    },
    {
      "cell_type": "code",
      "source": [
        "print(model.input_shape)\n",
        "print(X_train.shape)\n",
        "print(model.output_shape)\n",
        "print(y_train.shape)\n",
        "print(\"-------------------\")\n",
        "print(X_train.max())"
      ],
      "metadata": {
        "colab": {
          "base_uri": "https://localhost:8080/"
        },
        "id": "cAlLnzNURL7C",
        "outputId": "30ae8b65-8f1d-4d7a-df7d-9a4fd1209c02"
      },
      "execution_count": null,
      "outputs": [
        {
          "output_type": "stream",
          "name": "stdout",
          "text": [
            "(None, 64, 64, 64, 3)\n",
            "(51, 64, 64, 64, 3)\n",
            "(None, 64, 64, 64, 4)\n",
            "(51, 64, 64, 64, 4)\n",
            "-------------------\n",
            "1.0\n"
          ]
        }
      ]
    },
    {
      "cell_type": "markdown",
      "source": [
        "# Model Training\n",
        " In this cell, the neural network model is trained using the training data (X_train and y_train) for 20 epochs with a batch size of 8. The training progress and metrics are displayed (verbose=1), and validation data is used to evaluate the model's performance during training."
      ],
      "metadata": {
        "id": "v1UWOA1SqCGw"
      }
    },
    {
      "cell_type": "code",
      "source": [
        "history = model.fit(X_train,\n",
        "                    y_train,\n",
        "                    batch_size=8,\n",
        "                    epochs=20,\n",
        "                    verbose=1,\n",
        "                    validation_data=(X_test, y_test))"
      ],
      "metadata": {
        "colab": {
          "base_uri": "https://localhost:8080/"
        },
        "id": "1dzWdn6BRMCe",
        "outputId": "38c9b5cc-611c-4753-d44d-5e2d6d82579c"
      },
      "execution_count": null,
      "outputs": [
        {
          "output_type": "stream",
          "name": "stdout",
          "text": [
            "Epoch 1/20\n",
            "7/7 [==============================] - 121s 8s/step - loss: 0.5689 - dice_coefficient: 0.4400 - val_loss: 0.7662 - val_dice_coefficient: 0.2337\n",
            "Epoch 2/20\n",
            "7/7 [==============================] - 25s 4s/step - loss: 0.3741 - dice_coefficient: 0.6255 - val_loss: 0.7563 - val_dice_coefficient: 0.2437\n",
            "Epoch 3/20\n",
            "7/7 [==============================] - 25s 4s/step - loss: 0.3126 - dice_coefficient: 0.6901 - val_loss: 0.7189 - val_dice_coefficient: 0.2814\n",
            "Epoch 4/20\n",
            "7/7 [==============================] - 25s 4s/step - loss: 0.2716 - dice_coefficient: 0.7268 - val_loss: 0.6864 - val_dice_coefficient: 0.3143\n",
            "Epoch 5/20\n",
            "7/7 [==============================] - 25s 4s/step - loss: 0.2427 - dice_coefficient: 0.7549 - val_loss: 0.6606 - val_dice_coefficient: 0.3402\n",
            "Epoch 6/20\n",
            "7/7 [==============================] - 26s 4s/step - loss: 0.2226 - dice_coefficient: 0.7780 - val_loss: 0.6392 - val_dice_coefficient: 0.3618\n",
            "Epoch 7/20\n",
            "7/7 [==============================] - 25s 4s/step - loss: 0.2096 - dice_coefficient: 0.7911 - val_loss: 0.5953 - val_dice_coefficient: 0.4059\n",
            "Epoch 8/20\n",
            "7/7 [==============================] - 26s 4s/step - loss: 0.1951 - dice_coefficient: 0.8047 - val_loss: 0.5718 - val_dice_coefficient: 0.4296\n",
            "Epoch 9/20\n",
            "7/7 [==============================] - 25s 4s/step - loss: 0.1850 - dice_coefficient: 0.8164 - val_loss: 0.5335 - val_dice_coefficient: 0.4682\n",
            "Epoch 10/20\n",
            "7/7 [==============================] - 25s 4s/step - loss: 0.1828 - dice_coefficient: 0.8162 - val_loss: 0.5001 - val_dice_coefficient: 0.5017\n",
            "Epoch 11/20\n",
            "7/7 [==============================] - 25s 4s/step - loss: 0.1738 - dice_coefficient: 0.8254 - val_loss: 0.4689 - val_dice_coefficient: 0.5332\n",
            "Epoch 12/20\n",
            "7/7 [==============================] - 25s 4s/step - loss: 0.1663 - dice_coefficient: 0.8318 - val_loss: 0.4454 - val_dice_coefficient: 0.5569\n",
            "Epoch 13/20\n",
            "7/7 [==============================] - 25s 4s/step - loss: 0.1611 - dice_coefficient: 0.8391 - val_loss: 0.4281 - val_dice_coefficient: 0.5742\n",
            "Epoch 14/20\n",
            "7/7 [==============================] - 26s 4s/step - loss: 0.1553 - dice_coefficient: 0.8435 - val_loss: 0.4044 - val_dice_coefficient: 0.5981\n",
            "Epoch 15/20\n",
            "7/7 [==============================] - 26s 4s/step - loss: 0.1516 - dice_coefficient: 0.8478 - val_loss: 0.3863 - val_dice_coefficient: 0.6164\n",
            "Epoch 16/20\n",
            "7/7 [==============================] - 25s 4s/step - loss: 0.1477 - dice_coefficient: 0.8521 - val_loss: 0.3746 - val_dice_coefficient: 0.6282\n",
            "Epoch 17/20\n",
            "7/7 [==============================] - 25s 4s/step - loss: 0.1423 - dice_coefficient: 0.8592 - val_loss: 0.3582 - val_dice_coefficient: 0.6446\n",
            "Epoch 18/20\n",
            "7/7 [==============================] - 26s 4s/step - loss: 0.1396 - dice_coefficient: 0.8580 - val_loss: 0.3489 - val_dice_coefficient: 0.6540\n",
            "Epoch 19/20\n",
            "7/7 [==============================] - 25s 4s/step - loss: 0.1347 - dice_coefficient: 0.8647 - val_loss: 0.3361 - val_dice_coefficient: 0.6669\n",
            "Epoch 20/20\n",
            "7/7 [==============================] - 26s 4s/step - loss: 0.1361 - dice_coefficient: 0.8652 - val_loss: 0.3311 - val_dice_coefficient: 0.6720\n"
          ]
        }
      ]
    },
    {
      "cell_type": "markdown",
      "source": [
        "# Save the Model"
      ],
      "metadata": {
        "id": "qP5KLonYqOpR"
      }
    },
    {
      "cell_type": "code",
      "source": [
        "model.save('/content/drive/MyDrive/3D_image_segmentation/Copy of Image_segmentation.ipynb/my_model.h5')"
      ],
      "metadata": {
        "id": "wH0TgIJRRMF8",
        "colab": {
          "base_uri": "https://localhost:8080/"
        },
        "outputId": "a09a6357-092d-43df-f9d7-b5183cfe1bd5"
      },
      "execution_count": null,
      "outputs": [
        {
          "output_type": "stream",
          "name": "stderr",
          "text": [
            "/usr/local/lib/python3.10/dist-packages/keras/src/engine/training.py:3079: UserWarning: You are saving your model as an HDF5 file via `model.save()`. This file format is considered legacy. We recommend using instead the native Keras format, e.g. `model.save('my_model.keras')`.\n",
            "  saving_api.save_model(\n"
          ]
        }
      ]
    },
    {
      "cell_type": "markdown",
      "source": [
        "# Training Progress Visualization\n",
        "This extracts and plots the training and validation loss, as well as the Dice coefficient values, from the history object. The left subplot displays the training and validation loss over the training epochs, providing insights into the model's convergence and generalization. The right subplot shows the training and validation Dice coefficients.These visualizations help assess the model's performance and its ability to generalize to unseen data."
      ],
      "metadata": {
        "id": "rqKAEHH_qemB"
      }
    },
    {
      "cell_type": "code",
      "source": [
        "# Extract training and validation loss from the history object\n",
        "loss = history.history['loss']\n",
        "val_loss = history.history['val_loss']\n",
        "\n",
        "# Extract training and validation Dice coefficient from the history object\n",
        "dice_coefficient = history.history['dice_coefficient']\n",
        "val_dice_coefficient = history.history['val_dice_coefficient']\n",
        "\n",
        "# Plot training and validation loss\n",
        "plt.figure(figsize=(12, 4))\n",
        "plt.subplot(1, 2, 1)\n",
        "plt.plot(range(1, len(loss) + 1), loss, label='Training Loss', marker='o')\n",
        "plt.plot(range(1, len(val_loss) + 1), val_loss, label='Validation Loss', marker='o')\n",
        "plt.title('Training and Validation Loss')\n",
        "plt.xlabel('Epochs')\n",
        "plt.ylabel('Loss')\n",
        "plt.legend()\n",
        "\n",
        "# Plot training and validation Dice coefficient\n",
        "plt.subplot(1, 2, 2)\n",
        "plt.plot(range(1, len(dice_coefficient) + 1), dice_coefficient, label='Training Dice', marker='o')\n",
        "plt.plot(range(1, len(val_dice_coefficient) + 1), val_dice_coefficient, label='Validation Dice', marker='o')\n",
        "plt.title('Training and Validation Dice Coefficient')\n",
        "plt.xlabel('Epochs')\n",
        "plt.ylabel('Dice Coefficient')\n",
        "plt.legend()\n",
        "\n",
        "plt.tight_layout()\n",
        "plt.show()"
      ],
      "metadata": {
        "id": "HtHMYNCqRMI9",
        "colab": {
          "base_uri": "https://localhost:8080/",
          "height": 337
        },
        "outputId": "dedd54ae-fc13-4c5f-aa1c-122f668abdcc"
      },
      "execution_count": null,
      "outputs": [
        {
          "output_type": "display_data",
          "data": {
            "text/plain": [
              "<Figure size 1200x400 with 2 Axes>"
            ],
            "image/png": "[encoded data removed]"
          },
          "metadata": {}
        }
      ]
    },
    {
      "cell_type": "markdown",
      "source": [
        "# Load the Model"
      ],
      "metadata": {
        "id": "Jg3lLDyAqyNi"
      }
    },
    {
      "cell_type": "code",
      "source": [
        "my_model = load_model('/content/drive/MyDrive/3D_image_segmentation/my_model.h5', compile=False)"
      ],
      "metadata": {
        "id": "C5LO52m1RMMG"
      },
      "execution_count": null,
      "outputs": []
    },
    {
      "cell_type": "code",
      "source": [
        "my_model.compile(optimizer=optimizer, loss=dice_coefficient_loss, metrics=[dice_coefficient])"
      ],
      "metadata": {
        "id": "tckqc2d4xpji"
      },
      "execution_count": null,
      "outputs": []
    },
    {
      "cell_type": "markdown",
      "source": [
        "# Test Data Prediction and Post-processing\n",
        "The trained model is used to make predictions on the test data (X_test). The resulting predictions are stored in y_pred. To facilitate further analysis and evaluation, the predictions are processed using np.argmax to obtain the class index with the highest probability along the last axis (axis=4). Similarly, np.argmax is applied to y_test to obtain the corresponding ground truth class indices."
      ],
      "metadata": {
        "id": "jafNprY7rMXC"
      }
    },
    {
      "cell_type": "code",
      "source": [
        "#Predict on the test data\n",
        "y_pred=my_model.predict(X_test)\n",
        "y_pred_argmax=np.argmax(y_pred, axis=4)\n",
        "y_test_argmax = np.argmax(y_test, axis=4)"
      ],
      "metadata": {
        "id": "KzeaDL3mRMO2",
        "colab": {
          "base_uri": "https://localhost:8080/"
        },
        "outputId": "9f34b23e-049c-48e1-c256-12c18b2e16d7"
      },
      "execution_count": null,
      "outputs": [
        {
          "output_type": "stream",
          "name": "stdout",
          "text": [
            "1/1 [==============================] - 0s 473ms/step\n"
          ]
        }
      ]
    },
    {
      "cell_type": "markdown",
      "source": [
        "# Prediction and Ground Truth Shape and Class Labels\n",
        "The y_pred_argmax and y_test_argmax shapes indicate the dimensions of the processed predictions and ground truth data.The np.unique function is used to find the unique class labels present in the predicted data."
      ],
      "metadata": {
        "id": "qP5W60oar9ZN"
      }
    },
    {
      "cell_type": "code",
      "source": [
        "print(y_pred_argmax.shape)\n",
        "print(y_test_argmax.shape)\n",
        "print(np.unique(y_pred_argmax))"
      ],
      "metadata": {
        "id": "OeZNsnrPRmjz",
        "colab": {
          "base_uri": "https://localhost:8080/"
        },
        "outputId": "e8fd913b-a028-4b5c-8863-8b51adfd0aa8"
      },
      "execution_count": null,
      "outputs": [
        {
          "output_type": "stream",
          "name": "stdout",
          "text": [
            "(13, 64, 64, 64)\n",
            "(13, 64, 64, 64)\n",
            "[1 2]\n"
          ]
        }
      ]
    },
    {
      "cell_type": "markdown",
      "source": [
        "# Calculate Mean IOU"
      ],
      "metadata": {
        "id": "2vPnsQVfsV2r"
      }
    },
    {
      "cell_type": "code",
      "source": [
        "n_classes = 4\n",
        "IOU_keras = MeanIoU(num_classes=n_classes)\n",
        "IOU_keras.update_state(y_test_argmax, y_pred_argmax)\n",
        "\n",
        "mean_iou = IOU_keras.result().numpy()\n",
        "print(\"Mean IoU =\", mean_iou)"
      ],
      "metadata": {
        "id": "3x1YBvU8XrJH",
        "colab": {
          "base_uri": "https://localhost:8080/"
        },
        "outputId": "71f6d44d-3224-4028-9611-5ccc1b14fa17"
      },
      "execution_count": null,
      "outputs": [
        {
          "output_type": "stream",
          "name": "stdout",
          "text": [
            "Mean IoU = 0.20621452\n"
          ]
        }
      ]
    },
    {
      "cell_type": "markdown",
      "source": [
        " # Single Test Image Prediction and Ground Truth Comparison\n",
        " In this a random index is generated to select a single test image from the test dataset. The selected test image and its corresponding ground truth are extracted. The input image is expanded to match the model's expected input shape, and predictions are generated using the model.The ground_truth_argmax variable is also calculated to find the class indices for the ground truth. This allows for a comparison between the model's prediction and the actual ground truth for the selected test image."
      ],
      "metadata": {
        "id": "oZzt4Qh9srK5"
      }
    },
    {
      "cell_type": "code",
      "source": [
        "# Generate a random index for testing\n",
        "test_img_index = random.randint(0, len(X_test) - 1)\n",
        "test_img = X_test[test_img_index]\n",
        "ground_truth = y_test[test_img_index]\n",
        "\n",
        "# Expand dimensions for the input image\n",
        "test_img_input = np.expand_dims(test_img, axis=0)\n",
        "\n",
        "# Predict using the model\n",
        "test_pred = model.predict(test_img_input)\n",
        "test_prediction = np.argmax(test_pred, axis=-1)[0]\n",
        "\n",
        "# Calculate the argmax for the ground truth\n",
        "ground_truth_argmax = np.argmax(ground_truth, axis=-1)\n",
        "\n",
        "print(ground_truth_argmax.shape)"
      ],
      "metadata": {
        "id": "sTsRc6eFahBH",
        "colab": {
          "base_uri": "https://localhost:8080/"
        },
        "outputId": "89841142-71f2-4a87-9934-c7a9e90d53ec"
      },
      "execution_count": null,
      "outputs": [
        {
          "output_type": "stream",
          "name": "stdout",
          "text": [
            "1/1 [==============================] - 0s 34ms/step\n",
            "(64, 64, 64)\n"
          ]
        }
      ]
    },
    {
      "cell_type": "markdown",
      "source": [
        "# Visualization of Random Slice Comparison\n",
        "In this cell, a random slice index is generated, and a figure is created to display the slices of the testing image, testing label (ground truth), and the model's prediction on a specific slice. The selected slice allows for a focused comparison between the image, ground truth, and model prediction."
      ],
      "metadata": {
        "id": "6NAbjvaetWqp"
      }
    },
    {
      "cell_type": "code",
      "source": [
        "# Generate a random slice index\n",
        "slice = random.randint(0, test_prediction.shape[2] - 1)\n",
        "\n",
        "# Create a figure and display the slices\n",
        "plt.figure(figsize=(12, 8))\n",
        "\n",
        "# Plot the testing image slice\n",
        "plt.subplot(231)\n",
        "plt.title('Testing Image')\n",
        "plt.imshow(test_img_input[0, :, :, slice, 0], cmap='gray')\n",
        "\n",
        "# Plot the testing label slice\n",
        "plt.subplot(232)\n",
        "plt.title('Testing Label')\n",
        "plt.imshow(ground_truth_argmax[:, :, slice])\n",
        "\n",
        "# Plot the prediction on the test image slice\n",
        "plt.subplot(233)\n",
        "plt.title('Prediction on the test image')\n",
        "plt.imshow(test_prediction[:, :, slice])\n",
        "\n",
        "plt.show()"
      ],
      "metadata": {
        "id": "FAYfL92dbEb8",
        "colab": {
          "base_uri": "https://localhost:8080/",
          "height": 355
        },
        "outputId": "72f39ce7-5d82-4783-b6ec-4c716bc726d6"
      },
      "execution_count": null,
      "outputs": [
        {
          "output_type": "display_data",
          "data": {
            "text/plain": [
              "<Figure size 1200x800 with 3 Axes>"
            ],
            "image/png": "[encoded data removed]"
          },
          "metadata": {}
        }
      ]
    },
    {
      "cell_type": "code",
      "source": [
        "# Load the trained model\n",
        "loaded_model = load_model('/content/drive/MyDrive/3D_image_segmentation/my_model.h5', compile=False)\n",
        "\n",
        "# Compile the loaded model with the appropriate settings\n",
        "loaded_model.compile(optimizer=optimizer, loss=dice_coefficient_loss, metrics=[dice_coefficient])\n",
        "\n",
        "# Choose a random index for testing\n",
        "test_img_index = random.randint(0, len(X_test) - 1)\n",
        "\n",
        "# Select the test image and its corresponding ground truth\n",
        "test_img = X_test[test_img_index]\n",
        "ground_truth = y_test[test_img_index]\n",
        "\n",
        "# Expand dimensions for the input image\n",
        "test_img_input = np.expand_dims(test_img, axis=0)\n",
        "\n",
        "# Make predictions using the loaded and compiled model\n",
        "test_pred = loaded_model.predict(test_img_input)\n",
        "test_prediction = np.argmax(test_pred, axis=-1)[0]\n",
        "\n",
        "# Calculate the argmax for the ground truth\n",
        "ground_truth_argmax = np.argmax(ground_truth, axis=-1)\n",
        "\n",
        "# Print the shapes of the arrays for verification\n",
        "print(\"Test Prediction Shape:\", test_prediction.shape)\n",
        "print(\"Ground Truth Shape:\", ground_truth_argmax.shape)\n",
        "\n",
        "# Visualize the slices\n",
        "slice = random.randint(0, test_prediction.shape[2] - 1)\n",
        "\n",
        "# Create a figure and display the slices\n",
        "plt.figure(figsize=(12, 8))\n",
        "\n",
        "# Plot the testing image slice\n",
        "plt.subplot(231)\n",
        "plt.title('Testing Image')\n",
        "plt.imshow(test_img_input[0, :, :, slice, 0], cmap='gray')\n",
        "\n",
        "# Plot the testing label slice\n",
        "plt.subplot(232)\n",
        "plt.title('Testing Label')\n",
        "plt.imshow(ground_truth_argmax[:, :, slice])\n",
        "\n",
        "# Plot the prediction on the test image slice\n",
        "plt.subplot(233)\n",
        "plt.title('Prediction on test image')\n",
        "plt.imshow(test_prediction[:, :, slice])\n",
        "\n",
        "plt.show()\n"
      ],
      "metadata": {
        "colab": {
          "base_uri": "https://localhost:8080/",
          "height": 407
        },
        "id": "CJHi4FlWx-C2",
        "outputId": "6c1540c5-650e-4ab0-e720-e0f61c9bdff0"
      },
      "execution_count": null,
      "outputs": [
        {
          "output_type": "stream",
          "name": "stdout",
          "text": [
            "1/1 [==============================] - 0s 437ms/step\n",
            "Test Prediction Shape: (64, 64, 64)\n",
            "Ground Truth Shape: (64, 64, 64)\n"
          ]
        },
        {
          "output_type": "display_data",
          "data": {
            "text/plain": [
              "<Figure size 1200x800 with 3 Axes>"
            ],
            "image/png": "[encoded data removed]"
          },
          "metadata": {}
        }
      ]
    },
    {
      "cell_type": "markdown",
      "source": [
        "# Image Patch Extraction for 3D Image Segmentation\n",
        "Break down the large 3D image volume into smaller patches, each with the same size as the training images (64x64x64). These patches are generated using a step size of 64, ensuring minimal overlap between adjacent patches."
      ],
      "metadata": {
        "id": "2ucDGbSKozu-"
      }
    },
    {
      "cell_type": "code",
      "source": [
        "#Break the large image (volume) into patches of same size as the training images (patches)\n",
        "large_image = io.imread('/content/drive/MyDrive/3D_image_segmentation/data_for_3D_Unet/448_images_512x512.tif')\n",
        "patches = patchify(large_image, (64, 64, 64), step=64)  #Step=256 for 256 patches means no overlap\n",
        "print(large_image.shape)\n",
        "print(patches.shape)"
      ],
      "metadata": {
        "colab": {
          "base_uri": "https://localhost:8080/"
        },
        "id": "dg5t5NVvhoaU",
        "outputId": "9d810c39-9d70-4b6f-b3db-cb3f5aa56e9e"
      },
      "execution_count": null,
      "outputs": [
        {
          "output_type": "stream",
          "name": "stdout",
          "text": [
            "(448, 512, 512)\n",
            "(7, 8, 8, 64, 64, 64)\n"
          ]
        }
      ]
    },
    {
      "cell_type": "markdown",
      "source": [
        "# Prediction of 3D Patches Using Trained Model\n",
        " In this we predict the segmentation masks for each 3D patch extracted from the large image using a trained model. The loop iterates through all patches, preprocesses each patch, feeds it to the model, and collects the predicted segmentation masks. These individual predictions will be combined to reconstruct the final segmented 3D image."
      ],
      "metadata": {
        "id": "0tkcv9hYp11O"
      }
    },
    {
      "cell_type": "code",
      "source": [
        "# Predict each 3D patch\n",
        "predicted_patches = []\n",
        "for i in range(patches.shape[0]):\n",
        "  for j in range(patches.shape[1]):\n",
        "    for k in range(patches.shape[2]):\n",
        "      #print(i,j,k)\n",
        "      single_patch = patches[i,j,k, :,:,:]\n",
        "      single_patch_3ch = np.stack((single_patch,)*3, axis=-1)\n",
        "      single_patch_3ch = single_patch_3ch/255.\n",
        "      single_patch_3ch_input = np.expand_dims(single_patch_3ch, axis=0)\n",
        "      single_patch_prediction = my_model.predict(single_patch_3ch_input)\n",
        "      single_patch_prediction_argmax = np.argmax(single_patch_prediction, axis=4)[0,:,:,:]\n",
        "      predicted_patches.append(single_patch_prediction_argmax)"
      ],
      "metadata": {
        "colab": {
          "base_uri": "https://localhost:8080/"
        },
        "id": "tKJUusiih9_o",
        "outputId": "83652614-2e09-42f1-a324-1f66f53b270a"
      },
      "execution_count": null,
      "outputs": [
        {
          "output_type": "stream",
          "name": "stdout",
          "text": [
            "1/1 [==============================] - 0s 106ms/step\n",
            "1/1 [==============================] - 0s 72ms/step\n",
            "1/1 [==============================] - 0s 92ms/step\n",
            "1/1 [==============================] - 0s 87ms/step\n",
            "1/1 [==============================] - 0s 76ms/step\n",
            "1/1 [==============================] - 0s 103ms/step\n",
            "1/1 [==============================] - 0s 34ms/step\n",
            "1/1 [==============================] - 0s 129ms/step\n",
            "1/1 [==============================] - 0s 23ms/step\n",
            "1/1 [==============================] - 0s 25ms/step\n",
            "1/1 [==============================] - 0s 23ms/step\n",
            "1/1 [==============================] - 0s 23ms/step\n",
            "1/1 [==============================] - 0s 24ms/step\n",
            "1/1 [==============================] - 0s 24ms/step\n",
            "1/1 [==============================] - 0s 26ms/step\n",
            "1/1 [==============================] - 0s 24ms/step\n",
            "1/1 [==============================] - 0s 24ms/step\n",
            "1/1 [==============================] - 0s 24ms/step\n",
            "1/1 [==============================] - 0s 23ms/step\n",
            "1/1 [==============================] - 0s 25ms/step\n",
            "1/1 [==============================] - 0s 23ms/step\n",
            "1/1 [==============================] - 0s 23ms/step\n",
            "1/1 [==============================] - 0s 23ms/step\n",
            "1/1 [==============================] - 0s 22ms/step\n",
            "1/1 [==============================] - 0s 23ms/step\n",
            "1/1 [==============================] - 0s 24ms/step\n",
            "1/1 [==============================] - 0s 28ms/step\n",
            "1/1 [==============================] - 0s 25ms/step\n",
            "1/1 [==============================] - 0s 23ms/step\n",
            "1/1 [==============================] - 0s 27ms/step\n",
            "1/1 [==============================] - 0s 22ms/step\n",
            "1/1 [==============================] - 0s 24ms/step\n",
            "1/1 [==============================] - 0s 24ms/step\n",
            "1/1 [==============================] - 0s 25ms/step\n",
            "1/1 [==============================] - 0s 25ms/step\n",
            "1/1 [==============================] - 0s 26ms/step\n",
            "1/1 [==============================] - 0s 23ms/step\n",
            "1/1 [==============================] - 0s 25ms/step\n",
            "1/1 [==============================] - 0s 23ms/step\n",
            "1/1 [==============================] - 0s 23ms/step\n",
            "1/1 [==============================] - 0s 26ms/step\n",
            "1/1 [==============================] - 0s 24ms/step\n",
            "1/1 [==============================] - 0s 23ms/step\n",
            "1/1 [==============================] - 0s 25ms/step\n",
            "1/1 [==============================] - 0s 24ms/step\n",
            "1/1 [==============================] - 0s 26ms/step\n",
            "1/1 [==============================] - 0s 23ms/step\n",
            "1/1 [==============================] - 0s 23ms/step\n",
            "1/1 [==============================] - 0s 24ms/step\n",
            "1/1 [==============================] - 0s 24ms/step\n",
            "1/1 [==============================] - 0s 33ms/step\n",
            "1/1 [==============================] - 0s 33ms/step\n",
            "1/1 [==============================] - 0s 34ms/step\n",
            "1/1 [==============================] - 0s 39ms/step\n",
            "1/1 [==============================] - 0s 36ms/step\n",
            "1/1 [==============================] - 0s 33ms/step\n",
            "1/1 [==============================] - 0s 33ms/step\n",
            "1/1 [==============================] - 0s 51ms/step\n",
            "1/1 [==============================] - 0s 22ms/step\n",
            "1/1 [==============================] - 0s 22ms/step\n",
            "1/1 [==============================] - 0s 24ms/step\n",
            "1/1 [==============================] - 0s 26ms/step\n",
            "1/1 [==============================] - 0s 24ms/step\n",
            "1/1 [==============================] - 0s 26ms/step\n",
            "1/1 [==============================] - 0s 23ms/step\n",
            "1/1 [==============================] - 0s 22ms/step\n",
            "1/1 [==============================] - 0s 32ms/step\n",
            "1/1 [==============================] - 0s 24ms/step\n",
            "1/1 [==============================] - 0s 26ms/step\n",
            "1/1 [==============================] - 0s 24ms/step\n",
            "1/1 [==============================] - 0s 25ms/step\n",
            "1/1 [==============================] - 0s 24ms/step\n",
            "1/1 [==============================] - 0s 23ms/step\n",
            "1/1 [==============================] - 0s 22ms/step\n",
            "1/1 [==============================] - 0s 23ms/step\n",
            "1/1 [==============================] - 0s 32ms/step\n",
            "1/1 [==============================] - 0s 24ms/step\n",
            "1/1 [==============================] - 0s 26ms/step\n",
            "1/1 [==============================] - 0s 32ms/step\n",
            "1/1 [==============================] - 0s 25ms/step\n",
            "1/1 [==============================] - 0s 23ms/step\n",
            "1/1 [==============================] - 0s 23ms/step\n",
            "1/1 [==============================] - 0s 26ms/step\n",
            "1/1 [==============================] - 0s 25ms/step\n",
            "1/1 [==============================] - 0s 26ms/step\n",
            "1/1 [==============================] - 0s 23ms/step\n",
            "1/1 [==============================] - 0s 24ms/step\n",
            "1/1 [==============================] - 0s 23ms/step\n",
            "1/1 [==============================] - 0s 25ms/step\n",
            "1/1 [==============================] - 0s 24ms/step\n",
            "1/1 [==============================] - 0s 23ms/step\n",
            "1/1 [==============================] - 0s 23ms/step\n",
            "1/1 [==============================] - 0s 26ms/step\n",
            "1/1 [==============================] - 0s 24ms/step\n",
            "1/1 [==============================] - 0s 23ms/step\n",
            "1/1 [==============================] - 0s 25ms/step\n",
            "1/1 [==============================] - 0s 22ms/step\n",
            "1/1 [==============================] - 0s 25ms/step\n",
            "1/1 [==============================] - 0s 34ms/step\n",
            "1/1 [==============================] - 0s 25ms/step\n",
            "1/1 [==============================] - 0s 23ms/step\n",
            "1/1 [==============================] - 0s 22ms/step\n",
            "1/1 [==============================] - 0s 23ms/step\n",
            "1/1 [==============================] - 0s 36ms/step\n",
            "1/1 [==============================] - 0s 37ms/step\n",
            "1/1 [==============================] - 0s 33ms/step\n",
            "1/1 [==============================] - 0s 42ms/step\n",
            "1/1 [==============================] - 0s 35ms/step\n",
            "1/1 [==============================] - 0s 58ms/step\n",
            "1/1 [==============================] - 0s 37ms/step\n",
            "1/1 [==============================] - 0s 68ms/step\n",
            "1/1 [==============================] - 0s 71ms/step\n",
            "1/1 [==============================] - 0s 44ms/step\n",
            "1/1 [==============================] - 0s 73ms/step\n",
            "1/1 [==============================] - 0s 40ms/step\n",
            "1/1 [==============================] - 0s 62ms/step\n",
            "1/1 [==============================] - 0s 39ms/step\n",
            "1/1 [==============================] - 0s 38ms/step\n",
            "1/1 [==============================] - 0s 34ms/step\n",
            "1/1 [==============================] - 0s 37ms/step\n",
            "1/1 [==============================] - 0s 26ms/step\n",
            "1/1 [==============================] - 0s 23ms/step\n",
            "1/1 [==============================] - 0s 25ms/step\n",
            "1/1 [==============================] - 0s 26ms/step\n",
            "1/1 [==============================] - 0s 30ms/step\n",
            "1/1 [==============================] - 0s 25ms/step\n",
            "1/1 [==============================] - 0s 26ms/step\n",
            "1/1 [==============================] - 0s 27ms/step\n",
            "1/1 [==============================] - 0s 27ms/step\n",
            "1/1 [==============================] - 0s 27ms/step\n",
            "1/1 [==============================] - 0s 25ms/step\n",
            "1/1 [==============================] - 0s 25ms/step\n",
            "1/1 [==============================] - 0s 25ms/step\n",
            "1/1 [==============================] - 0s 29ms/step\n",
            "1/1 [==============================] - 0s 25ms/step\n",
            "1/1 [==============================] - 0s 24ms/step\n",
            "1/1 [==============================] - 0s 32ms/step\n",
            "1/1 [==============================] - 0s 26ms/step\n",
            "1/1 [==============================] - 0s 27ms/step\n",
            "1/1 [==============================] - 0s 25ms/step\n",
            "1/1 [==============================] - 0s 28ms/step\n",
            "1/1 [==============================] - 0s 28ms/step\n",
            "1/1 [==============================] - 0s 26ms/step\n",
            "1/1 [==============================] - 0s 24ms/step\n",
            "1/1 [==============================] - 0s 24ms/step\n",
            "1/1 [==============================] - 0s 24ms/step\n",
            "1/1 [==============================] - 0s 25ms/step\n",
            "1/1 [==============================] - 0s 24ms/step\n",
            "1/1 [==============================] - 0s 23ms/step\n",
            "1/1 [==============================] - 0s 23ms/step\n",
            "1/1 [==============================] - 0s 24ms/step\n",
            "1/1 [==============================] - 0s 24ms/step\n",
            "1/1 [==============================] - 0s 24ms/step\n",
            "1/1 [==============================] - 0s 23ms/step\n",
            "1/1 [==============================] - 0s 23ms/step\n",
            "1/1 [==============================] - 0s 27ms/step\n",
            "1/1 [==============================] - 0s 24ms/step\n",
            "1/1 [==============================] - 0s 23ms/step\n",
            "1/1 [==============================] - 0s 24ms/step\n",
            "1/1 [==============================] - 0s 23ms/step\n",
            "1/1 [==============================] - 0s 44ms/step\n",
            "1/1 [==============================] - 0s 35ms/step\n",
            "1/1 [==============================] - 0s 39ms/step\n",
            "1/1 [==============================] - 0s 35ms/step\n",
            "1/1 [==============================] - 0s 35ms/step\n",
            "1/1 [==============================] - 0s 36ms/step\n",
            "1/1 [==============================] - 0s 36ms/step\n",
            "1/1 [==============================] - 0s 35ms/step\n",
            "1/1 [==============================] - 0s 34ms/step\n",
            "1/1 [==============================] - 0s 24ms/step\n",
            "1/1 [==============================] - 0s 24ms/step\n",
            "1/1 [==============================] - 0s 28ms/step\n",
            "1/1 [==============================] - 0s 24ms/step\n",
            "1/1 [==============================] - 0s 26ms/step\n",
            "1/1 [==============================] - 0s 21ms/step\n",
            "1/1 [==============================] - 0s 24ms/step\n",
            "1/1 [==============================] - 0s 23ms/step\n",
            "1/1 [==============================] - 0s 26ms/step\n",
            "1/1 [==============================] - 0s 25ms/step\n",
            "1/1 [==============================] - 0s 29ms/step\n",
            "1/1 [==============================] - 0s 26ms/step\n",
            "1/1 [==============================] - 0s 24ms/step\n",
            "1/1 [==============================] - 0s 21ms/step\n",
            "1/1 [==============================] - 0s 28ms/step\n",
            "1/1 [==============================] - 0s 27ms/step\n",
            "1/1 [==============================] - 0s 25ms/step\n",
            "1/1 [==============================] - 0s 24ms/step\n",
            "1/1 [==============================] - 0s 29ms/step\n",
            "1/1 [==============================] - 0s 31ms/step\n",
            "1/1 [==============================] - 0s 29ms/step\n",
            "1/1 [==============================] - 0s 27ms/step\n",
            "1/1 [==============================] - 0s 27ms/step\n",
            "1/1 [==============================] - 0s 31ms/step\n",
            "1/1 [==============================] - 0s 27ms/step\n",
            "1/1 [==============================] - 0s 26ms/step\n",
            "1/1 [==============================] - 0s 25ms/step\n",
            "1/1 [==============================] - 0s 29ms/step\n",
            "1/1 [==============================] - 0s 28ms/step\n",
            "1/1 [==============================] - 0s 29ms/step\n",
            "1/1 [==============================] - 0s 26ms/step\n",
            "1/1 [==============================] - 0s 28ms/step\n",
            "1/1 [==============================] - 0s 33ms/step\n",
            "1/1 [==============================] - 0s 26ms/step\n",
            "1/1 [==============================] - 0s 24ms/step\n",
            "1/1 [==============================] - 0s 27ms/step\n",
            "1/1 [==============================] - 0s 26ms/step\n",
            "1/1 [==============================] - 0s 34ms/step\n",
            "1/1 [==============================] - 0s 25ms/step\n",
            "1/1 [==============================] - 0s 25ms/step\n",
            "1/1 [==============================] - 0s 24ms/step\n",
            "1/1 [==============================] - 0s 23ms/step\n",
            "1/1 [==============================] - 0s 26ms/step\n",
            "1/1 [==============================] - 0s 22ms/step\n",
            "1/1 [==============================] - 0s 26ms/step\n",
            "1/1 [==============================] - 0s 42ms/step\n",
            "1/1 [==============================] - 0s 48ms/step\n",
            "1/1 [==============================] - 0s 42ms/step\n",
            "1/1 [==============================] - 0s 35ms/step\n",
            "1/1 [==============================] - 0s 35ms/step\n",
            "1/1 [==============================] - 0s 34ms/step\n",
            "1/1 [==============================] - 0s 34ms/step\n",
            "1/1 [==============================] - 0s 37ms/step\n",
            "1/1 [==============================] - 0s 36ms/step\n",
            "1/1 [==============================] - 0s 38ms/step\n",
            "1/1 [==============================] - 0s 34ms/step\n",
            "1/1 [==============================] - 0s 23ms/step\n",
            "1/1 [==============================] - 0s 26ms/step\n",
            "1/1 [==============================] - 0s 26ms/step\n",
            "1/1 [==============================] - 0s 26ms/step\n",
            "1/1 [==============================] - 0s 24ms/step\n",
            "1/1 [==============================] - 0s 27ms/step\n",
            "1/1 [==============================] - 0s 22ms/step\n",
            "1/1 [==============================] - 0s 24ms/step\n",
            "1/1 [==============================] - 0s 28ms/step\n",
            "1/1 [==============================] - 0s 24ms/step\n",
            "1/1 [==============================] - 0s 24ms/step\n",
            "1/1 [==============================] - 0s 27ms/step\n",
            "1/1 [==============================] - 0s 23ms/step\n",
            "1/1 [==============================] - 0s 22ms/step\n",
            "1/1 [==============================] - 0s 24ms/step\n",
            "1/1 [==============================] - 0s 25ms/step\n",
            "1/1 [==============================] - 0s 24ms/step\n",
            "1/1 [==============================] - 0s 25ms/step\n",
            "1/1 [==============================] - 0s 25ms/step\n",
            "1/1 [==============================] - 0s 23ms/step\n",
            "1/1 [==============================] - 0s 26ms/step\n",
            "1/1 [==============================] - 0s 23ms/step\n",
            "1/1 [==============================] - 0s 24ms/step\n",
            "1/1 [==============================] - 0s 28ms/step\n",
            "1/1 [==============================] - 0s 24ms/step\n",
            "1/1 [==============================] - 0s 25ms/step\n",
            "1/1 [==============================] - 0s 25ms/step\n",
            "1/1 [==============================] - 0s 25ms/step\n",
            "1/1 [==============================] - 0s 29ms/step\n",
            "1/1 [==============================] - 0s 22ms/step\n",
            "1/1 [==============================] - 0s 23ms/step\n",
            "1/1 [==============================] - 0s 24ms/step\n",
            "1/1 [==============================] - 0s 27ms/step\n",
            "1/1 [==============================] - 0s 24ms/step\n",
            "1/1 [==============================] - 0s 27ms/step\n",
            "1/1 [==============================] - 0s 25ms/step\n",
            "1/1 [==============================] - 0s 26ms/step\n",
            "1/1 [==============================] - 0s 28ms/step\n",
            "1/1 [==============================] - 0s 22ms/step\n",
            "1/1 [==============================] - 0s 23ms/step\n",
            "1/1 [==============================] - 0s 23ms/step\n",
            "1/1 [==============================] - 0s 23ms/step\n",
            "1/1 [==============================] - 0s 23ms/step\n",
            "1/1 [==============================] - 0s 25ms/step\n",
            "1/1 [==============================] - 0s 24ms/step\n",
            "1/1 [==============================] - 0s 25ms/step\n",
            "1/1 [==============================] - 0s 21ms/step\n",
            "1/1 [==============================] - 0s 36ms/step\n",
            "1/1 [==============================] - 0s 46ms/step\n",
            "1/1 [==============================] - 0s 36ms/step\n",
            "1/1 [==============================] - 0s 51ms/step\n",
            "1/1 [==============================] - 0s 40ms/step\n",
            "1/1 [==============================] - 0s 36ms/step\n",
            "1/1 [==============================] - 0s 43ms/step\n",
            "1/1 [==============================] - 0s 38ms/step\n",
            "1/1 [==============================] - 0s 40ms/step\n",
            "1/1 [==============================] - 0s 37ms/step\n",
            "1/1 [==============================] - 0s 25ms/step\n",
            "1/1 [==============================] - 0s 24ms/step\n",
            "1/1 [==============================] - 0s 23ms/step\n",
            "1/1 [==============================] - 0s 24ms/step\n",
            "1/1 [==============================] - 0s 25ms/step\n",
            "1/1 [==============================] - 0s 27ms/step\n",
            "1/1 [==============================] - 0s 25ms/step\n",
            "1/1 [==============================] - 0s 23ms/step\n",
            "1/1 [==============================] - 0s 27ms/step\n",
            "1/1 [==============================] - 0s 24ms/step\n",
            "1/1 [==============================] - 0s 24ms/step\n",
            "1/1 [==============================] - 0s 25ms/step\n",
            "1/1 [==============================] - 0s 24ms/step\n",
            "1/1 [==============================] - 0s 27ms/step\n",
            "1/1 [==============================] - 0s 24ms/step\n",
            "1/1 [==============================] - 0s 21ms/step\n",
            "1/1 [==============================] - 0s 26ms/step\n",
            "1/1 [==============================] - 0s 25ms/step\n",
            "1/1 [==============================] - 0s 24ms/step\n",
            "1/1 [==============================] - 0s 28ms/step\n",
            "1/1 [==============================] - 0s 26ms/step\n",
            "1/1 [==============================] - 0s 26ms/step\n",
            "1/1 [==============================] - 0s 29ms/step\n",
            "1/1 [==============================] - 0s 24ms/step\n",
            "1/1 [==============================] - 0s 27ms/step\n",
            "1/1 [==============================] - 0s 23ms/step\n",
            "1/1 [==============================] - 0s 24ms/step\n",
            "1/1 [==============================] - 0s 25ms/step\n",
            "1/1 [==============================] - 0s 23ms/step\n",
            "1/1 [==============================] - 0s 25ms/step\n",
            "1/1 [==============================] - 0s 23ms/step\n",
            "1/1 [==============================] - 0s 22ms/step\n",
            "1/1 [==============================] - 0s 25ms/step\n",
            "1/1 [==============================] - 0s 23ms/step\n",
            "1/1 [==============================] - 0s 25ms/step\n",
            "1/1 [==============================] - 0s 27ms/step\n",
            "1/1 [==============================] - 0s 30ms/step\n",
            "1/1 [==============================] - 0s 26ms/step\n",
            "1/1 [==============================] - 0s 23ms/step\n",
            "1/1 [==============================] - 0s 25ms/step\n",
            "1/1 [==============================] - 0s 25ms/step\n",
            "1/1 [==============================] - 0s 25ms/step\n",
            "1/1 [==============================] - 0s 23ms/step\n",
            "1/1 [==============================] - 0s 24ms/step\n",
            "1/1 [==============================] - 0s 33ms/step\n",
            "1/1 [==============================] - 0s 23ms/step\n",
            "1/1 [==============================] - 0s 37ms/step\n",
            "1/1 [==============================] - 0s 54ms/step\n",
            "1/1 [==============================] - 0s 40ms/step\n",
            "1/1 [==============================] - 0s 35ms/step\n",
            "1/1 [==============================] - 0s 35ms/step\n",
            "1/1 [==============================] - 0s 41ms/step\n",
            "1/1 [==============================] - 0s 41ms/step\n",
            "1/1 [==============================] - 0s 34ms/step\n",
            "1/1 [==============================] - 0s 37ms/step\n",
            "1/1 [==============================] - 0s 25ms/step\n",
            "1/1 [==============================] - 0s 21ms/step\n",
            "1/1 [==============================] - 0s 26ms/step\n",
            "1/1 [==============================] - 0s 25ms/step\n",
            "1/1 [==============================] - 0s 26ms/step\n",
            "1/1 [==============================] - 0s 25ms/step\n",
            "1/1 [==============================] - 0s 24ms/step\n",
            "1/1 [==============================] - 0s 24ms/step\n",
            "1/1 [==============================] - 0s 25ms/step\n",
            "1/1 [==============================] - 0s 22ms/step\n",
            "1/1 [==============================] - 0s 23ms/step\n",
            "1/1 [==============================] - 0s 25ms/step\n",
            "1/1 [==============================] - 0s 26ms/step\n",
            "1/1 [==============================] - 0s 27ms/step\n",
            "1/1 [==============================] - 0s 24ms/step\n",
            "1/1 [==============================] - 0s 25ms/step\n",
            "1/1 [==============================] - 0s 23ms/step\n",
            "1/1 [==============================] - 0s 25ms/step\n",
            "1/1 [==============================] - 0s 24ms/step\n",
            "1/1 [==============================] - 0s 23ms/step\n",
            "1/1 [==============================] - 0s 25ms/step\n",
            "1/1 [==============================] - 0s 25ms/step\n",
            "1/1 [==============================] - 0s 24ms/step\n",
            "1/1 [==============================] - 0s 23ms/step\n",
            "1/1 [==============================] - 0s 26ms/step\n",
            "1/1 [==============================] - 0s 23ms/step\n",
            "1/1 [==============================] - 0s 28ms/step\n",
            "1/1 [==============================] - 0s 28ms/step\n",
            "1/1 [==============================] - 0s 23ms/step\n",
            "1/1 [==============================] - 0s 24ms/step\n",
            "1/1 [==============================] - 0s 28ms/step\n",
            "1/1 [==============================] - 0s 24ms/step\n",
            "1/1 [==============================] - 0s 23ms/step\n",
            "1/1 [==============================] - 0s 23ms/step\n",
            "1/1 [==============================] - 0s 26ms/step\n",
            "1/1 [==============================] - 0s 29ms/step\n",
            "1/1 [==============================] - 0s 27ms/step\n",
            "1/1 [==============================] - 0s 27ms/step\n",
            "1/1 [==============================] - 0s 24ms/step\n",
            "1/1 [==============================] - 0s 30ms/step\n",
            "1/1 [==============================] - 0s 24ms/step\n",
            "1/1 [==============================] - 0s 24ms/step\n",
            "1/1 [==============================] - 0s 24ms/step\n",
            "1/1 [==============================] - 0s 25ms/step\n",
            "1/1 [==============================] - 0s 30ms/step\n",
            "1/1 [==============================] - 0s 47ms/step\n",
            "1/1 [==============================] - 0s 43ms/step\n",
            "1/1 [==============================] - 0s 36ms/step\n",
            "1/1 [==============================] - 0s 36ms/step\n",
            "1/1 [==============================] - 0s 38ms/step\n",
            "1/1 [==============================] - 0s 38ms/step\n",
            "1/1 [==============================] - 0s 37ms/step\n",
            "1/1 [==============================] - 0s 39ms/step\n",
            "1/1 [==============================] - 0s 39ms/step\n",
            "1/1 [==============================] - 0s 46ms/step\n",
            "1/1 [==============================] - 0s 27ms/step\n",
            "1/1 [==============================] - 0s 25ms/step\n",
            "1/1 [==============================] - 0s 28ms/step\n",
            "1/1 [==============================] - 0s 27ms/step\n",
            "1/1 [==============================] - 0s 25ms/step\n",
            "1/1 [==============================] - 0s 24ms/step\n",
            "1/1 [==============================] - 0s 26ms/step\n",
            "1/1 [==============================] - 0s 26ms/step\n",
            "1/1 [==============================] - 0s 32ms/step\n",
            "1/1 [==============================] - 0s 22ms/step\n",
            "1/1 [==============================] - 0s 25ms/step\n",
            "1/1 [==============================] - 0s 24ms/step\n",
            "1/1 [==============================] - 0s 25ms/step\n",
            "1/1 [==============================] - 0s 28ms/step\n",
            "1/1 [==============================] - 0s 24ms/step\n",
            "1/1 [==============================] - 0s 24ms/step\n",
            "1/1 [==============================] - 0s 26ms/step\n",
            "1/1 [==============================] - 0s 21ms/step\n",
            "1/1 [==============================] - 0s 24ms/step\n",
            "1/1 [==============================] - 0s 24ms/step\n",
            "1/1 [==============================] - 0s 24ms/step\n",
            "1/1 [==============================] - 0s 25ms/step\n",
            "1/1 [==============================] - 0s 23ms/step\n",
            "1/1 [==============================] - 0s 25ms/step\n",
            "1/1 [==============================] - 0s 23ms/step\n",
            "1/1 [==============================] - 0s 23ms/step\n",
            "1/1 [==============================] - 0s 21ms/step\n",
            "1/1 [==============================] - 0s 23ms/step\n",
            "1/1 [==============================] - 0s 26ms/step\n",
            "1/1 [==============================] - 0s 24ms/step\n",
            "1/1 [==============================] - 0s 24ms/step\n",
            "1/1 [==============================] - 0s 25ms/step\n",
            "1/1 [==============================] - 0s 23ms/step\n",
            "1/1 [==============================] - 0s 21ms/step\n",
            "1/1 [==============================] - 0s 24ms/step\n",
            "1/1 [==============================] - 0s 26ms/step\n",
            "1/1 [==============================] - 0s 23ms/step\n",
            "1/1 [==============================] - 0s 29ms/step\n",
            "1/1 [==============================] - 0s 23ms/step\n",
            "1/1 [==============================] - 0s 28ms/step\n",
            "1/1 [==============================] - 0s 23ms/step\n",
            "1/1 [==============================] - 0s 26ms/step\n",
            "1/1 [==============================] - 0s 25ms/step\n",
            "1/1 [==============================] - 0s 24ms/step\n",
            "1/1 [==============================] - 0s 29ms/step\n",
            "1/1 [==============================] - 0s 33ms/step\n",
            "1/1 [==============================] - 0s 44ms/step\n",
            "1/1 [==============================] - 0s 35ms/step\n",
            "1/1 [==============================] - 0s 35ms/step\n",
            "1/1 [==============================] - 0s 37ms/step\n",
            "1/1 [==============================] - 0s 34ms/step\n",
            "1/1 [==============================] - 0s 35ms/step\n",
            "1/1 [==============================] - 0s 37ms/step\n",
            "1/1 [==============================] - 0s 110ms/step\n",
            "1/1 [==============================] - 0s 24ms/step\n",
            "1/1 [==============================] - 0s 24ms/step\n"
          ]
        }
      ]
    },
    {
      "cell_type": "markdown",
      "source": [
        "# stacking Predicted Packages for Reconstructed 3D Segmentation\n",
        "The predicted segmentation masks for individual 3D patches are stacked together to create a single 3D volume of predictions. The resulting 'predicted_patches' now represents the reconstructed segmentation mask for the entire large 3D image, enabling further analysis and visualization"
      ],
      "metadata": {
        "id": "21UkE8ouriY6"
      }
    },
    {
      "cell_type": "code",
      "source": [
        "# Assuming you have a list of patches named `predicted_patches`\n",
        "predicted_patches = np.stack(predicted_patches)\n",
        "print(predicted_patches.shape)"
      ],
      "metadata": {
        "colab": {
          "base_uri": "https://localhost:8080/"
        },
        "id": "zcc8b-b4iNS7",
        "outputId": "625bcde3-3053-42dc-d9e1-535ef9a76935"
      },
      "execution_count": null,
      "outputs": [
        {
          "output_type": "stream",
          "name": "stdout",
          "text": [
            "(448, 64, 64, 64)\n"
          ]
        }
      ]
    },
    {
      "cell_type": "markdown",
      "source": [
        "# Reshaping the Predicted Packages for consistency\n",
        "The NumPy array containing the predicted segmentation masks, 'predicted_patches,' is reshaped to ensure consistency with the original shape of the patches. The 'predicted_patches_reshaped' now matches the dimensions of the extracted patches, making it ready for further processing and visualization in alignment with the original image volume."
      ],
      "metadata": {
        "id": "DRKd9UWisEyI"
      }
    },
    {
      "cell_type": "code",
      "source": [
        "# Assuming you have the NumPy array `predicted_patches`\n",
        "new_shape = (patches.shape[0], patches.shape[1], patches.shape[2], patches.shape[3], patches.shape[4], patches.shape[5])\n",
        "predicted_patches_reshaped = predicted_patches.reshape(new_shape)\n",
        "print(predicted_patches_reshaped.shape)"
      ],
      "metadata": {
        "colab": {
          "base_uri": "https://localhost:8080/"
        },
        "id": "riVSoiIOj8ht",
        "outputId": "59975c94-7bc5-485b-9354-ee967e93ca24"
      },
      "execution_count": null,
      "outputs": [
        {
          "output_type": "stream",
          "name": "stdout",
          "text": [
            "(7, 8, 8, 64, 64, 64)\n"
          ]
        }
      ]
    },
    {
      "cell_type": "markdown",
      "source": [
        "# Reconstructing Segmented Image from Patches\n",
        "In this the individually predicted patches are repatched to reconstruct the segmented image in its original volume shape. The 'reconstructed_image' now represents the fully segmented 3D image volume, ready for analysis and visualization"
      ],
      "metadata": {
        "id": "JweTDGs6snSO"
      }
    },
    {
      "cell_type": "code",
      "source": [
        "#Repach individual patches into the orginal volume shape\n",
        "reconstructed_image = unpatchify(predicted_patches_reshaped, large_image.shape)\n",
        "print(reconstructed_image.shape)"
      ],
      "metadata": {
        "colab": {
          "base_uri": "https://localhost:8080/"
        },
        "id": "q-jsiRKtma_a",
        "outputId": "b59156e7-b866-42e5-c8e2-653943f300da"
      },
      "execution_count": null,
      "outputs": [
        {
          "output_type": "stream",
          "name": "stdout",
          "text": [
            "(448, 512, 512)\n"
          ]
        }
      ]
    },
    {
      "cell_type": "code",
      "source": [
        "print(reconstructed_image.dtype)"
      ],
      "metadata": {
        "colab": {
          "base_uri": "https://localhost:8080/"
        },
        "id": "S6Qkzdd_mEao",
        "outputId": "c04b0e36-83fd-4ff0-a41e-2b231620187b"
      },
      "execution_count": null,
      "outputs": [
        {
          "output_type": "stream",
          "name": "stdout",
          "text": [
            "uint8\n"
          ]
        }
      ]
    },
    {
      "cell_type": "markdown",
      "source": [
        "# Converting to Unit8 for Image Viewing Compatibility\n",
        "This step allows for easy visualization and analysis of the segmented 3D image.\""
      ],
      "metadata": {
        "id": "Xk7EuYQLtJ7o"
      }
    },
    {
      "cell_type": "code",
      "source": [
        "#Convert to uint8 so we can open image in most image viewing software packages\n",
        "reconstructed_image=reconstructed_image.astype(np.uint8)\n",
        "print(reconstructed_image.dtype)"
      ],
      "metadata": {
        "colab": {
          "base_uri": "https://localhost:8080/"
        },
        "id": "yMcf1NvUmRLQ",
        "outputId": "62fc5ee2-86ac-4963-a46c-d02bc63f76d6"
      },
      "execution_count": null,
      "outputs": [
        {
          "output_type": "stream",
          "name": "stdout",
          "text": [
            "uint8\n"
          ]
        }
      ]
    },
    {
      "cell_type": "code",
      "source": [
        "print(np.unique(reconstructed_image))"
      ],
      "metadata": {
        "colab": {
          "base_uri": "https://localhost:8080/"
        },
        "id": "2E93OvbHolWW",
        "outputId": "c44740c6-bb88-4df1-8d65-480cfaf22dc6"
      },
      "execution_count": null,
      "outputs": [
        {
          "output_type": "stream",
          "name": "stdout",
          "text": [
            "[2]\n"
          ]
        }
      ]
    },
    {
      "cell_type": "code",
      "source": [],
      "metadata": {
        "id": "L-1xFUK01c4U"
      },
      "execution_count": null,
      "outputs": []
    }
  ]
}